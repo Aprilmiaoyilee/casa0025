{
 "cells": [
  {
   "cell_type": "markdown",
   "id": "f545d5d5-c270-4ac2-95d2-1433d4848c7d",
   "metadata": {},
   "source": [
    "# Calculating Building Mass Index for Urban Heat Islands\n",
    "\n",
    "This notebook will guide through the steps of how to import building footprints including heights, and calculate the building mass per LSOA."
   ]
  },
  {
   "cell_type": "markdown",
   "id": "fdad532a-40bf-4496-86c0-42413c1fd31e",
   "metadata": {},
   "source": [
    "## Notebook requirements\n",
    "\n",
    "Run these steps to import libraries and intialise Googe Earth Engine."
   ]
  },
  {
   "cell_type": "code",
   "execution_count": 1,
   "id": "bd60ca1e-aab4-4a58-9a5e-04f1cda17b2d",
   "metadata": {
    "scrolled": true
   },
   "outputs": [
    {
     "name": "stdout",
     "output_type": "stream",
     "text": [
      "Requirement already satisfied: ee in /opt/conda/lib/python3.11/site-packages (0.2)\n",
      "Requirement already satisfied: geemap in /opt/conda/lib/python3.11/site-packages (0.35.3)\n",
      "Requirement already satisfied: pycrs in /opt/conda/lib/python3.11/site-packages (1.0.2)\n",
      "Requirement already satisfied: blessings in /opt/conda/lib/python3.11/site-packages (from ee) (1.7)\n",
      "Requirement already satisfied: bqplot in /opt/conda/lib/python3.11/site-packages (from geemap) (0.12.44)\n",
      "Requirement already satisfied: colour in /opt/conda/lib/python3.11/site-packages (from geemap) (0.1.5)\n",
      "Requirement already satisfied: earthengine-api>=1.0.0 in /opt/conda/lib/python3.11/site-packages (from geemap) (1.5.9)\n",
      "Requirement already satisfied: eerepr>=0.1.0 in /opt/conda/lib/python3.11/site-packages (from geemap) (0.1.1)\n",
      "Requirement already satisfied: folium>=0.17.0 in /opt/conda/lib/python3.11/site-packages (from geemap) (0.18.0)\n",
      "Requirement already satisfied: geocoder in /opt/conda/lib/python3.11/site-packages (from geemap) (1.38.1)\n",
      "Requirement already satisfied: ipyevents in /opt/conda/lib/python3.11/site-packages (from geemap) (2.0.2)\n",
      "Requirement already satisfied: ipyfilechooser>=0.6.0 in /opt/conda/lib/python3.11/site-packages (from geemap) (0.6.0)\n",
      "Requirement already satisfied: ipyleaflet>=0.19.2 in /opt/conda/lib/python3.11/site-packages (from geemap) (0.19.2)\n",
      "Requirement already satisfied: ipytree in /opt/conda/lib/python3.11/site-packages (from geemap) (0.2.2)\n",
      "Requirement already satisfied: matplotlib in /opt/conda/lib/python3.11/site-packages (from geemap) (3.9.2)\n",
      "Requirement already satisfied: numpy in /opt/conda/lib/python3.11/site-packages (from geemap) (2.0.2)\n",
      "Requirement already satisfied: pandas in /opt/conda/lib/python3.11/site-packages (from geemap) (2.2.3)\n",
      "Requirement already satisfied: plotly in /opt/conda/lib/python3.11/site-packages (from geemap) (5.24.1)\n",
      "Requirement already satisfied: pyperclip in /opt/conda/lib/python3.11/site-packages (from geemap) (1.9.0)\n",
      "Requirement already satisfied: pyshp>=2.3.1 in /opt/conda/lib/python3.11/site-packages (from geemap) (2.3.1)\n",
      "Requirement already satisfied: python-box in /opt/conda/lib/python3.11/site-packages (from geemap) (7.3.2)\n",
      "Requirement already satisfied: scooby in /opt/conda/lib/python3.11/site-packages (from geemap) (0.10.0)\n",
      "Requirement already satisfied: google-cloud-storage in /opt/conda/lib/python3.11/site-packages (from earthengine-api>=1.0.0->geemap) (3.1.0)\n",
      "Requirement already satisfied: google-api-python-client>=1.12.1 in /opt/conda/lib/python3.11/site-packages (from earthengine-api>=1.0.0->geemap) (2.167.0)\n",
      "Requirement already satisfied: google-auth>=1.4.1 in /opt/conda/lib/python3.11/site-packages (from earthengine-api>=1.0.0->geemap) (2.38.0)\n",
      "Requirement already satisfied: google-auth-httplib2>=0.0.3 in /opt/conda/lib/python3.11/site-packages (from earthengine-api>=1.0.0->geemap) (0.2.0)\n",
      "Requirement already satisfied: httplib2<1dev,>=0.9.2 in /opt/conda/lib/python3.11/site-packages (from earthengine-api>=1.0.0->geemap) (0.22.0)\n",
      "Requirement already satisfied: requests in /opt/conda/lib/python3.11/site-packages (from earthengine-api>=1.0.0->geemap) (2.32.3)\n",
      "Requirement already satisfied: branca>=0.6.0 in /opt/conda/lib/python3.11/site-packages (from folium>=0.17.0->geemap) (0.7.2)\n",
      "Requirement already satisfied: jinja2>=2.9 in /opt/conda/lib/python3.11/site-packages (from folium>=0.17.0->geemap) (3.1.4)\n",
      "Requirement already satisfied: xyzservices in /opt/conda/lib/python3.11/site-packages (from folium>=0.17.0->geemap) (2024.9.0)\n",
      "Requirement already satisfied: ipywidgets in /opt/conda/lib/python3.11/site-packages (from ipyfilechooser>=0.6.0->geemap) (8.1.5)\n",
      "Requirement already satisfied: jupyter-leaflet<0.20,>=0.19 in /opt/conda/lib/python3.11/site-packages (from ipyleaflet>=0.19.2->geemap) (0.19.2)\n",
      "Requirement already satisfied: traittypes<3,>=0.2.1 in /opt/conda/lib/python3.11/site-packages (from ipyleaflet>=0.19.2->geemap) (0.2.1)\n",
      "Requirement already satisfied: six in /opt/conda/lib/python3.11/site-packages (from blessings->ee) (1.16.0)\n",
      "Requirement already satisfied: traitlets>=4.3.0 in /opt/conda/lib/python3.11/site-packages (from bqplot->geemap) (5.14.3)\n",
      "Requirement already satisfied: python-dateutil>=2.8.2 in /opt/conda/lib/python3.11/site-packages (from pandas->geemap) (2.9.0)\n",
      "Requirement already satisfied: pytz>=2020.1 in /opt/conda/lib/python3.11/site-packages (from pandas->geemap) (2024.1)\n",
      "Requirement already satisfied: tzdata>=2022.7 in /opt/conda/lib/python3.11/site-packages (from pandas->geemap) (2024.2)\n",
      "Requirement already satisfied: click in /opt/conda/lib/python3.11/site-packages (from geocoder->geemap) (8.1.7)\n",
      "Requirement already satisfied: future in /opt/conda/lib/python3.11/site-packages (from geocoder->geemap) (1.0.0)\n",
      "Requirement already satisfied: ratelim in /opt/conda/lib/python3.11/site-packages (from geocoder->geemap) (0.1.6)\n",
      "Requirement already satisfied: contourpy>=1.0.1 in /opt/conda/lib/python3.11/site-packages (from matplotlib->geemap) (1.3.1)\n",
      "Requirement already satisfied: cycler>=0.10 in /opt/conda/lib/python3.11/site-packages (from matplotlib->geemap) (0.12.1)\n",
      "Requirement already satisfied: fonttools>=4.22.0 in /opt/conda/lib/python3.11/site-packages (from matplotlib->geemap) (4.55.0)\n",
      "Requirement already satisfied: kiwisolver>=1.3.1 in /opt/conda/lib/python3.11/site-packages (from matplotlib->geemap) (1.4.7)\n",
      "Requirement already satisfied: packaging>=20.0 in /opt/conda/lib/python3.11/site-packages (from matplotlib->geemap) (24.1)\n",
      "Requirement already satisfied: pillow>=8 in /opt/conda/lib/python3.11/site-packages (from matplotlib->geemap) (11.0.0)\n",
      "Requirement already satisfied: pyparsing>=2.3.1 in /opt/conda/lib/python3.11/site-packages (from matplotlib->geemap) (3.2.0)\n",
      "Requirement already satisfied: tenacity>=6.2.0 in /opt/conda/lib/python3.11/site-packages (from plotly->geemap) (9.0.0)\n",
      "Requirement already satisfied: google-api-core!=2.0.*,!=2.1.*,!=2.2.*,!=2.3.0,<3.0.0,>=1.31.5 in /opt/conda/lib/python3.11/site-packages (from google-api-python-client>=1.12.1->earthengine-api>=1.0.0->geemap) (2.24.2)\n",
      "Requirement already satisfied: uritemplate<5,>=3.0.1 in /opt/conda/lib/python3.11/site-packages (from google-api-python-client>=1.12.1->earthengine-api>=1.0.0->geemap) (4.1.1)\n",
      "Requirement already satisfied: cachetools<6.0,>=2.0.0 in /opt/conda/lib/python3.11/site-packages (from google-auth>=1.4.1->earthengine-api>=1.0.0->geemap) (5.5.0)\n",
      "Requirement already satisfied: pyasn1-modules>=0.2.1 in /opt/conda/lib/python3.11/site-packages (from google-auth>=1.4.1->earthengine-api>=1.0.0->geemap) (0.4.2)\n",
      "Requirement already satisfied: rsa<5,>=3.1.4 in /opt/conda/lib/python3.11/site-packages (from google-auth>=1.4.1->earthengine-api>=1.0.0->geemap) (4.9)\n",
      "Requirement already satisfied: comm>=0.1.3 in /opt/conda/lib/python3.11/site-packages (from ipywidgets->ipyfilechooser>=0.6.0->geemap) (0.2.2)\n",
      "Requirement already satisfied: ipython>=6.1.0 in /opt/conda/lib/python3.11/site-packages (from ipywidgets->ipyfilechooser>=0.6.0->geemap) (8.27.0)\n",
      "Requirement already satisfied: widgetsnbextension~=4.0.12 in /opt/conda/lib/python3.11/site-packages (from ipywidgets->ipyfilechooser>=0.6.0->geemap) (4.0.13)\n",
      "Requirement already satisfied: jupyterlab-widgets~=3.0.12 in /opt/conda/lib/python3.11/site-packages (from ipywidgets->ipyfilechooser>=0.6.0->geemap) (3.0.13)\n",
      "Requirement already satisfied: MarkupSafe>=2.0 in /opt/conda/lib/python3.11/site-packages (from jinja2>=2.9->folium>=0.17.0->geemap) (2.1.5)\n",
      "Requirement already satisfied: google-cloud-core<3.0dev,>=2.4.2 in /opt/conda/lib/python3.11/site-packages (from google-cloud-storage->earthengine-api>=1.0.0->geemap) (2.4.3)\n",
      "Requirement already satisfied: google-resumable-media>=2.7.2 in /opt/conda/lib/python3.11/site-packages (from google-cloud-storage->earthengine-api>=1.0.0->geemap) (2.7.2)\n",
      "Requirement already satisfied: google-crc32c<2.0dev,>=1.0 in /opt/conda/lib/python3.11/site-packages (from google-cloud-storage->earthengine-api>=1.0.0->geemap) (1.7.1)\n",
      "Requirement already satisfied: charset-normalizer<4,>=2 in /opt/conda/lib/python3.11/site-packages (from requests->earthengine-api>=1.0.0->geemap) (3.3.2)\n",
      "Requirement already satisfied: idna<4,>=2.5 in /opt/conda/lib/python3.11/site-packages (from requests->earthengine-api>=1.0.0->geemap) (3.8)\n",
      "Requirement already satisfied: urllib3<3,>=1.21.1 in /opt/conda/lib/python3.11/site-packages (from requests->earthengine-api>=1.0.0->geemap) (2.2.2)\n",
      "Requirement already satisfied: certifi>=2017.4.17 in /opt/conda/lib/python3.11/site-packages (from requests->earthengine-api>=1.0.0->geemap) (2024.8.30)\n",
      "Requirement already satisfied: decorator in /opt/conda/lib/python3.11/site-packages (from ratelim->geocoder->geemap) (5.1.1)\n",
      "Requirement already satisfied: googleapis-common-protos<2.0.0,>=1.56.2 in /opt/conda/lib/python3.11/site-packages (from google-api-core!=2.0.*,!=2.1.*,!=2.2.*,!=2.3.0,<3.0.0,>=1.31.5->google-api-python-client>=1.12.1->earthengine-api>=1.0.0->geemap) (1.70.0)\n",
      "Requirement already satisfied: protobuf!=3.20.0,!=3.20.1,!=4.21.0,!=4.21.1,!=4.21.2,!=4.21.3,!=4.21.4,!=4.21.5,<7.0.0,>=3.19.5 in /opt/conda/lib/python3.11/site-packages (from google-api-core!=2.0.*,!=2.1.*,!=2.2.*,!=2.3.0,<3.0.0,>=1.31.5->google-api-python-client>=1.12.1->earthengine-api>=1.0.0->geemap) (6.30.2)\n",
      "Requirement already satisfied: proto-plus<2.0.0,>=1.22.3 in /opt/conda/lib/python3.11/site-packages (from google-api-core!=2.0.*,!=2.1.*,!=2.2.*,!=2.3.0,<3.0.0,>=1.31.5->google-api-python-client>=1.12.1->earthengine-api>=1.0.0->geemap) (1.26.1)\n",
      "Requirement already satisfied: jedi>=0.16 in /opt/conda/lib/python3.11/site-packages (from ipython>=6.1.0->ipywidgets->ipyfilechooser>=0.6.0->geemap) (0.19.1)\n",
      "Requirement already satisfied: matplotlib-inline in /opt/conda/lib/python3.11/site-packages (from ipython>=6.1.0->ipywidgets->ipyfilechooser>=0.6.0->geemap) (0.1.7)\n",
      "Requirement already satisfied: prompt-toolkit<3.1.0,>=3.0.41 in /opt/conda/lib/python3.11/site-packages (from ipython>=6.1.0->ipywidgets->ipyfilechooser>=0.6.0->geemap) (3.0.47)\n",
      "Requirement already satisfied: pygments>=2.4.0 in /opt/conda/lib/python3.11/site-packages (from ipython>=6.1.0->ipywidgets->ipyfilechooser>=0.6.0->geemap) (2.18.0)\n",
      "Requirement already satisfied: stack-data in /opt/conda/lib/python3.11/site-packages (from ipython>=6.1.0->ipywidgets->ipyfilechooser>=0.6.0->geemap) (0.6.2)\n",
      "Requirement already satisfied: typing-extensions>=4.6 in /opt/conda/lib/python3.11/site-packages (from ipython>=6.1.0->ipywidgets->ipyfilechooser>=0.6.0->geemap) (4.12.2)\n",
      "Requirement already satisfied: pexpect>4.3 in /opt/conda/lib/python3.11/site-packages (from ipython>=6.1.0->ipywidgets->ipyfilechooser>=0.6.0->geemap) (4.9.0)\n",
      "Requirement already satisfied: pyasn1<0.7.0,>=0.6.1 in /opt/conda/lib/python3.11/site-packages (from pyasn1-modules>=0.2.1->google-auth>=1.4.1->earthengine-api>=1.0.0->geemap) (0.6.1)\n",
      "Requirement already satisfied: parso<0.9.0,>=0.8.3 in /opt/conda/lib/python3.11/site-packages (from jedi>=0.16->ipython>=6.1.0->ipywidgets->ipyfilechooser>=0.6.0->geemap) (0.8.4)\n",
      "Requirement already satisfied: ptyprocess>=0.5 in /opt/conda/lib/python3.11/site-packages (from pexpect>4.3->ipython>=6.1.0->ipywidgets->ipyfilechooser>=0.6.0->geemap) (0.7.0)\n",
      "Requirement already satisfied: wcwidth in /opt/conda/lib/python3.11/site-packages (from prompt-toolkit<3.1.0,>=3.0.41->ipython>=6.1.0->ipywidgets->ipyfilechooser>=0.6.0->geemap) (0.2.13)\n",
      "Requirement already satisfied: executing>=1.2.0 in /opt/conda/lib/python3.11/site-packages (from stack-data->ipython>=6.1.0->ipywidgets->ipyfilechooser>=0.6.0->geemap) (2.1.0)\n",
      "Requirement already satisfied: asttokens>=2.1.0 in /opt/conda/lib/python3.11/site-packages (from stack-data->ipython>=6.1.0->ipywidgets->ipyfilechooser>=0.6.0->geemap) (2.4.1)\n",
      "Requirement already satisfied: pure-eval in /opt/conda/lib/python3.11/site-packages (from stack-data->ipython>=6.1.0->ipywidgets->ipyfilechooser>=0.6.0->geemap) (0.2.3)\n",
      "Requirement already satisfied: geemap in /opt/conda/lib/python3.11/site-packages (0.35.3)\n",
      "Requirement already satisfied: bqplot in /opt/conda/lib/python3.11/site-packages (from geemap) (0.12.44)\n",
      "Requirement already satisfied: colour in /opt/conda/lib/python3.11/site-packages (from geemap) (0.1.5)\n",
      "Requirement already satisfied: earthengine-api>=1.0.0 in /opt/conda/lib/python3.11/site-packages (from geemap) (1.5.9)\n",
      "Requirement already satisfied: eerepr>=0.1.0 in /opt/conda/lib/python3.11/site-packages (from geemap) (0.1.1)\n",
      "Requirement already satisfied: folium>=0.17.0 in /opt/conda/lib/python3.11/site-packages (from geemap) (0.18.0)\n",
      "Requirement already satisfied: geocoder in /opt/conda/lib/python3.11/site-packages (from geemap) (1.38.1)\n",
      "Requirement already satisfied: ipyevents in /opt/conda/lib/python3.11/site-packages (from geemap) (2.0.2)\n",
      "Requirement already satisfied: ipyfilechooser>=0.6.0 in /opt/conda/lib/python3.11/site-packages (from geemap) (0.6.0)\n",
      "Requirement already satisfied: ipyleaflet>=0.19.2 in /opt/conda/lib/python3.11/site-packages (from geemap) (0.19.2)\n",
      "Requirement already satisfied: ipytree in /opt/conda/lib/python3.11/site-packages (from geemap) (0.2.2)\n",
      "Requirement already satisfied: matplotlib in /opt/conda/lib/python3.11/site-packages (from geemap) (3.9.2)\n",
      "Requirement already satisfied: numpy in /opt/conda/lib/python3.11/site-packages (from geemap) (2.0.2)\n",
      "Requirement already satisfied: pandas in /opt/conda/lib/python3.11/site-packages (from geemap) (2.2.3)\n",
      "Requirement already satisfied: plotly in /opt/conda/lib/python3.11/site-packages (from geemap) (5.24.1)\n",
      "Requirement already satisfied: pyperclip in /opt/conda/lib/python3.11/site-packages (from geemap) (1.9.0)\n",
      "Requirement already satisfied: pyshp>=2.3.1 in /opt/conda/lib/python3.11/site-packages (from geemap) (2.3.1)\n",
      "Requirement already satisfied: python-box in /opt/conda/lib/python3.11/site-packages (from geemap) (7.3.2)\n",
      "Requirement already satisfied: scooby in /opt/conda/lib/python3.11/site-packages (from geemap) (0.10.0)\n",
      "Requirement already satisfied: google-cloud-storage in /opt/conda/lib/python3.11/site-packages (from earthengine-api>=1.0.0->geemap) (3.1.0)\n",
      "Requirement already satisfied: google-api-python-client>=1.12.1 in /opt/conda/lib/python3.11/site-packages (from earthengine-api>=1.0.0->geemap) (2.167.0)\n",
      "Requirement already satisfied: google-auth>=1.4.1 in /opt/conda/lib/python3.11/site-packages (from earthengine-api>=1.0.0->geemap) (2.38.0)\n",
      "Requirement already satisfied: google-auth-httplib2>=0.0.3 in /opt/conda/lib/python3.11/site-packages (from earthengine-api>=1.0.0->geemap) (0.2.0)\n",
      "Requirement already satisfied: httplib2<1dev,>=0.9.2 in /opt/conda/lib/python3.11/site-packages (from earthengine-api>=1.0.0->geemap) (0.22.0)\n",
      "Requirement already satisfied: requests in /opt/conda/lib/python3.11/site-packages (from earthengine-api>=1.0.0->geemap) (2.32.3)\n",
      "Requirement already satisfied: branca>=0.6.0 in /opt/conda/lib/python3.11/site-packages (from folium>=0.17.0->geemap) (0.7.2)\n",
      "Requirement already satisfied: jinja2>=2.9 in /opt/conda/lib/python3.11/site-packages (from folium>=0.17.0->geemap) (3.1.4)\n",
      "Requirement already satisfied: xyzservices in /opt/conda/lib/python3.11/site-packages (from folium>=0.17.0->geemap) (2024.9.0)\n",
      "Requirement already satisfied: ipywidgets in /opt/conda/lib/python3.11/site-packages (from ipyfilechooser>=0.6.0->geemap) (8.1.5)\n",
      "Requirement already satisfied: jupyter-leaflet<0.20,>=0.19 in /opt/conda/lib/python3.11/site-packages (from ipyleaflet>=0.19.2->geemap) (0.19.2)\n",
      "Requirement already satisfied: traittypes<3,>=0.2.1 in /opt/conda/lib/python3.11/site-packages (from ipyleaflet>=0.19.2->geemap) (0.2.1)\n",
      "Requirement already satisfied: traitlets>=4.3.0 in /opt/conda/lib/python3.11/site-packages (from bqplot->geemap) (5.14.3)\n",
      "Requirement already satisfied: python-dateutil>=2.8.2 in /opt/conda/lib/python3.11/site-packages (from pandas->geemap) (2.9.0)\n",
      "Requirement already satisfied: pytz>=2020.1 in /opt/conda/lib/python3.11/site-packages (from pandas->geemap) (2024.1)\n",
      "Requirement already satisfied: tzdata>=2022.7 in /opt/conda/lib/python3.11/site-packages (from pandas->geemap) (2024.2)\n",
      "Requirement already satisfied: click in /opt/conda/lib/python3.11/site-packages (from geocoder->geemap) (8.1.7)\n",
      "Requirement already satisfied: future in /opt/conda/lib/python3.11/site-packages (from geocoder->geemap) (1.0.0)\n",
      "Requirement already satisfied: ratelim in /opt/conda/lib/python3.11/site-packages (from geocoder->geemap) (0.1.6)\n",
      "Requirement already satisfied: six in /opt/conda/lib/python3.11/site-packages (from geocoder->geemap) (1.16.0)\n",
      "Requirement already satisfied: contourpy>=1.0.1 in /opt/conda/lib/python3.11/site-packages (from matplotlib->geemap) (1.3.1)\n",
      "Requirement already satisfied: cycler>=0.10 in /opt/conda/lib/python3.11/site-packages (from matplotlib->geemap) (0.12.1)\n",
      "Requirement already satisfied: fonttools>=4.22.0 in /opt/conda/lib/python3.11/site-packages (from matplotlib->geemap) (4.55.0)\n",
      "Requirement already satisfied: kiwisolver>=1.3.1 in /opt/conda/lib/python3.11/site-packages (from matplotlib->geemap) (1.4.7)\n",
      "Requirement already satisfied: packaging>=20.0 in /opt/conda/lib/python3.11/site-packages (from matplotlib->geemap) (24.1)\n",
      "Requirement already satisfied: pillow>=8 in /opt/conda/lib/python3.11/site-packages (from matplotlib->geemap) (11.0.0)\n",
      "Requirement already satisfied: pyparsing>=2.3.1 in /opt/conda/lib/python3.11/site-packages (from matplotlib->geemap) (3.2.0)\n",
      "Requirement already satisfied: tenacity>=6.2.0 in /opt/conda/lib/python3.11/site-packages (from plotly->geemap) (9.0.0)\n",
      "Requirement already satisfied: google-api-core!=2.0.*,!=2.1.*,!=2.2.*,!=2.3.0,<3.0.0,>=1.31.5 in /opt/conda/lib/python3.11/site-packages (from google-api-python-client>=1.12.1->earthengine-api>=1.0.0->geemap) (2.24.2)\n",
      "Requirement already satisfied: uritemplate<5,>=3.0.1 in /opt/conda/lib/python3.11/site-packages (from google-api-python-client>=1.12.1->earthengine-api>=1.0.0->geemap) (4.1.1)\n",
      "Requirement already satisfied: cachetools<6.0,>=2.0.0 in /opt/conda/lib/python3.11/site-packages (from google-auth>=1.4.1->earthengine-api>=1.0.0->geemap) (5.5.0)\n",
      "Requirement already satisfied: pyasn1-modules>=0.2.1 in /opt/conda/lib/python3.11/site-packages (from google-auth>=1.4.1->earthengine-api>=1.0.0->geemap) (0.4.2)\n",
      "Requirement already satisfied: rsa<5,>=3.1.4 in /opt/conda/lib/python3.11/site-packages (from google-auth>=1.4.1->earthengine-api>=1.0.0->geemap) (4.9)\n",
      "Requirement already satisfied: comm>=0.1.3 in /opt/conda/lib/python3.11/site-packages (from ipywidgets->ipyfilechooser>=0.6.0->geemap) (0.2.2)\n",
      "Requirement already satisfied: ipython>=6.1.0 in /opt/conda/lib/python3.11/site-packages (from ipywidgets->ipyfilechooser>=0.6.0->geemap) (8.27.0)\n",
      "Requirement already satisfied: widgetsnbextension~=4.0.12 in /opt/conda/lib/python3.11/site-packages (from ipywidgets->ipyfilechooser>=0.6.0->geemap) (4.0.13)\n",
      "Requirement already satisfied: jupyterlab-widgets~=3.0.12 in /opt/conda/lib/python3.11/site-packages (from ipywidgets->ipyfilechooser>=0.6.0->geemap) (3.0.13)\n",
      "Requirement already satisfied: MarkupSafe>=2.0 in /opt/conda/lib/python3.11/site-packages (from jinja2>=2.9->folium>=0.17.0->geemap) (2.1.5)\n",
      "Requirement already satisfied: google-cloud-core<3.0dev,>=2.4.2 in /opt/conda/lib/python3.11/site-packages (from google-cloud-storage->earthengine-api>=1.0.0->geemap) (2.4.3)\n",
      "Requirement already satisfied: google-resumable-media>=2.7.2 in /opt/conda/lib/python3.11/site-packages (from google-cloud-storage->earthengine-api>=1.0.0->geemap) (2.7.2)\n",
      "Requirement already satisfied: google-crc32c<2.0dev,>=1.0 in /opt/conda/lib/python3.11/site-packages (from google-cloud-storage->earthengine-api>=1.0.0->geemap) (1.7.1)\n",
      "Requirement already satisfied: charset-normalizer<4,>=2 in /opt/conda/lib/python3.11/site-packages (from requests->earthengine-api>=1.0.0->geemap) (3.3.2)\n",
      "Requirement already satisfied: idna<4,>=2.5 in /opt/conda/lib/python3.11/site-packages (from requests->earthengine-api>=1.0.0->geemap) (3.8)\n",
      "Requirement already satisfied: urllib3<3,>=1.21.1 in /opt/conda/lib/python3.11/site-packages (from requests->earthengine-api>=1.0.0->geemap) (2.2.2)\n",
      "Requirement already satisfied: certifi>=2017.4.17 in /opt/conda/lib/python3.11/site-packages (from requests->earthengine-api>=1.0.0->geemap) (2024.8.30)\n",
      "Requirement already satisfied: decorator in /opt/conda/lib/python3.11/site-packages (from ratelim->geocoder->geemap) (5.1.1)\n",
      "Requirement already satisfied: googleapis-common-protos<2.0.0,>=1.56.2 in /opt/conda/lib/python3.11/site-packages (from google-api-core!=2.0.*,!=2.1.*,!=2.2.*,!=2.3.0,<3.0.0,>=1.31.5->google-api-python-client>=1.12.1->earthengine-api>=1.0.0->geemap) (1.70.0)\n",
      "Requirement already satisfied: protobuf!=3.20.0,!=3.20.1,!=4.21.0,!=4.21.1,!=4.21.2,!=4.21.3,!=4.21.4,!=4.21.5,<7.0.0,>=3.19.5 in /opt/conda/lib/python3.11/site-packages (from google-api-core!=2.0.*,!=2.1.*,!=2.2.*,!=2.3.0,<3.0.0,>=1.31.5->google-api-python-client>=1.12.1->earthengine-api>=1.0.0->geemap) (6.30.2)\n",
      "Requirement already satisfied: proto-plus<2.0.0,>=1.22.3 in /opt/conda/lib/python3.11/site-packages (from google-api-core!=2.0.*,!=2.1.*,!=2.2.*,!=2.3.0,<3.0.0,>=1.31.5->google-api-python-client>=1.12.1->earthengine-api>=1.0.0->geemap) (1.26.1)\n",
      "Requirement already satisfied: jedi>=0.16 in /opt/conda/lib/python3.11/site-packages (from ipython>=6.1.0->ipywidgets->ipyfilechooser>=0.6.0->geemap) (0.19.1)\n",
      "Requirement already satisfied: matplotlib-inline in /opt/conda/lib/python3.11/site-packages (from ipython>=6.1.0->ipywidgets->ipyfilechooser>=0.6.0->geemap) (0.1.7)\n",
      "Requirement already satisfied: prompt-toolkit<3.1.0,>=3.0.41 in /opt/conda/lib/python3.11/site-packages (from ipython>=6.1.0->ipywidgets->ipyfilechooser>=0.6.0->geemap) (3.0.47)\n",
      "Requirement already satisfied: pygments>=2.4.0 in /opt/conda/lib/python3.11/site-packages (from ipython>=6.1.0->ipywidgets->ipyfilechooser>=0.6.0->geemap) (2.18.0)\n",
      "Requirement already satisfied: stack-data in /opt/conda/lib/python3.11/site-packages (from ipython>=6.1.0->ipywidgets->ipyfilechooser>=0.6.0->geemap) (0.6.2)\n",
      "Requirement already satisfied: typing-extensions>=4.6 in /opt/conda/lib/python3.11/site-packages (from ipython>=6.1.0->ipywidgets->ipyfilechooser>=0.6.0->geemap) (4.12.2)\n",
      "Requirement already satisfied: pexpect>4.3 in /opt/conda/lib/python3.11/site-packages (from ipython>=6.1.0->ipywidgets->ipyfilechooser>=0.6.0->geemap) (4.9.0)\n",
      "Requirement already satisfied: pyasn1<0.7.0,>=0.6.1 in /opt/conda/lib/python3.11/site-packages (from pyasn1-modules>=0.2.1->google-auth>=1.4.1->earthengine-api>=1.0.0->geemap) (0.6.1)\n",
      "Requirement already satisfied: parso<0.9.0,>=0.8.3 in /opt/conda/lib/python3.11/site-packages (from jedi>=0.16->ipython>=6.1.0->ipywidgets->ipyfilechooser>=0.6.0->geemap) (0.8.4)\n",
      "Requirement already satisfied: ptyprocess>=0.5 in /opt/conda/lib/python3.11/site-packages (from pexpect>4.3->ipython>=6.1.0->ipywidgets->ipyfilechooser>=0.6.0->geemap) (0.7.0)\n",
      "Requirement already satisfied: wcwidth in /opt/conda/lib/python3.11/site-packages (from prompt-toolkit<3.1.0,>=3.0.41->ipython>=6.1.0->ipywidgets->ipyfilechooser>=0.6.0->geemap) (0.2.13)\n",
      "Requirement already satisfied: executing>=1.2.0 in /opt/conda/lib/python3.11/site-packages (from stack-data->ipython>=6.1.0->ipywidgets->ipyfilechooser>=0.6.0->geemap) (2.1.0)\n",
      "Requirement already satisfied: asttokens>=2.1.0 in /opt/conda/lib/python3.11/site-packages (from stack-data->ipython>=6.1.0->ipywidgets->ipyfilechooser>=0.6.0->geemap) (2.4.1)\n",
      "Requirement already satisfied: pure-eval in /opt/conda/lib/python3.11/site-packages (from stack-data->ipython>=6.1.0->ipywidgets->ipyfilechooser>=0.6.0->geemap) (0.2.3)\n"
     ]
    }
   ],
   "source": [
    "# Uncomment the lines below to install libraries only if required\n",
    "# !pip install ee geemap pycrs\n",
    "# !pip install -U geemap"
   ]
  },
  {
   "cell_type": "code",
   "execution_count": 2,
   "id": "afd1fc04-0561-452e-8acb-4d5eb0a103f3",
   "metadata": {},
   "outputs": [],
   "source": [
    "# import libraries\n",
    "import ee\n",
    "import geemap\n",
    "import os\n",
    "#import numpy as np\n",
    "import duckdb\n",
    "import pandas as pd\n",
    "import geopandas as gpd\n",
    "#import matplotlib.pyplot as plt\n",
    "import requests"
   ]
  },
  {
   "cell_type": "markdown",
   "id": "70b7b054-a5dc-423c-ba2a-085cfeeaa166",
   "metadata": {},
   "source": [
    "## Connect to DuckDB\n",
    "\n",
    "Connect to duck db and initiate spatial elements."
   ]
  },
  {
   "cell_type": "code",
   "execution_count": 3,
   "id": "6f857a29-0bfb-4d38-ae31-74b6eec1c19d",
   "metadata": {},
   "outputs": [
    {
     "data": {
      "text/html": [
       "\n",
       "            <style>\n",
       "                .geemap-dark {\n",
       "                    --jp-widgets-color: white;\n",
       "                    --jp-widgets-label-color: white;\n",
       "                    --jp-ui-font-color1: white;\n",
       "                    --jp-layout-color2: #454545;\n",
       "                    background-color: #383838;\n",
       "                }\n",
       "\n",
       "                .geemap-dark .jupyter-button {\n",
       "                    --jp-layout-color3: #383838;\n",
       "                }\n",
       "\n",
       "                .geemap-colab {\n",
       "                    background-color: var(--colab-primary-surface-color, white);\n",
       "                }\n",
       "\n",
       "                .geemap-colab .jupyter-button {\n",
       "                    --jp-layout-color3: var(--colab-primary-surface-color, white);\n",
       "                }\n",
       "            </style>\n",
       "            "
      ],
      "text/plain": [
       "<IPython.core.display.HTML object>"
      ]
     },
     "metadata": {},
     "output_type": "display_data"
    },
    {
     "data": {
      "text/plain": [
       "<duckdb.duckdb.DuckDBPyConnection at 0x7f8f804ac0f0>"
      ]
     },
     "execution_count": 3,
     "metadata": {},
     "output_type": "execute_result"
    }
   ],
   "source": [
    "# Connect to DuckDB and load spatial extension\n",
    "con = duckdb.connect(database='uhi.duckdb')\n",
    "con.execute(\"INSTALL spatial;\")\n",
    "con.execute(\"LOAD spatial;\")"
   ]
  },
  {
   "cell_type": "code",
   "execution_count": 4,
   "id": "6e3ebe9e-d6e3-485e-ae3f-f5bbf5e2b003",
   "metadata": {},
   "outputs": [
    {
     "data": {
      "text/html": [
       "\n",
       "            <style>\n",
       "                .geemap-dark {\n",
       "                    --jp-widgets-color: white;\n",
       "                    --jp-widgets-label-color: white;\n",
       "                    --jp-ui-font-color1: white;\n",
       "                    --jp-layout-color2: #454545;\n",
       "                    background-color: #383838;\n",
       "                }\n",
       "\n",
       "                .geemap-dark .jupyter-button {\n",
       "                    --jp-layout-color3: #383838;\n",
       "                }\n",
       "\n",
       "                .geemap-colab {\n",
       "                    background-color: var(--colab-primary-surface-color, white);\n",
       "                }\n",
       "\n",
       "                .geemap-colab .jupyter-button {\n",
       "                    --jp-layout-color3: var(--colab-primary-surface-color, white);\n",
       "                }\n",
       "            </style>\n",
       "            "
      ],
      "text/plain": [
       "<IPython.core.display.HTML object>"
      ]
     },
     "metadata": {},
     "output_type": "display_data"
    },
    {
     "name": "stdout",
     "output_type": "stream",
     "text": [
      "Dropped table: buildings\n",
      "Dropped table: buildings_clean\n",
      "Dropped table: buildings_raw\n",
      "Dropped table: london_LSOAs_vol\n",
      "Dropped table: london_boroughs\n",
      "Dropped table: london_lsoa\n",
      "Dropped table: london_lsoa_bmd\n",
      "Dropped table: lsoa_bmd\n"
     ]
    }
   ],
   "source": [
    "# # Get all table names\n",
    "# tables = con.execute(\"SHOW TABLES\").fetchdf()['name'].tolist()\n",
    "\n",
    "# # Drop each table\n",
    "# for table in tables:\n",
    "#     con.execute(f\"DROP TABLE IF EXISTS {table}\")\n",
    "#     print(f\"Dropped table: {table}\")"
   ]
  },
  {
   "cell_type": "markdown",
   "id": "abbffab8-fb25-4f7a-ae28-bdcb3d64adcb",
   "metadata": {},
   "source": [
    "## Load Building data table\n",
    "\n",
    "Currently using Ordnance Survey NGD data as this is the most complete height dataset available.  Although this isn't an open dataset like OSM it would be available under the PSGA to our target audience of GLA and London Boroughs.\n",
    "\n",
    "OSM was not used as height data is very sparse and unreliable - if OS NGD data is not available then OSM building footprints could be used to estimate building density.  However this couldn't be used for Building Mass Density."
   ]
  },
  {
   "cell_type": "markdown",
   "id": "66879571-92f0-405f-bb65-ff376cbcc224",
   "metadata": {},
   "source": [
    "Create a building table in a DuckDB spatial database from the building data file."
   ]
  },
  {
   "cell_type": "code",
   "execution_count": 5,
   "id": "aca8d47f-7e9c-4e9d-804c-8e50d80418e7",
   "metadata": {},
   "outputs": [
    {
     "data": {
      "text/html": [
       "\n",
       "            <style>\n",
       "                .geemap-dark {\n",
       "                    --jp-widgets-color: white;\n",
       "                    --jp-widgets-label-color: white;\n",
       "                    --jp-ui-font-color1: white;\n",
       "                    --jp-layout-color2: #454545;\n",
       "                    background-color: #383838;\n",
       "                }\n",
       "\n",
       "                .geemap-dark .jupyter-button {\n",
       "                    --jp-layout-color3: #383838;\n",
       "                }\n",
       "\n",
       "                .geemap-colab {\n",
       "                    background-color: var(--colab-primary-surface-color, white);\n",
       "                }\n",
       "\n",
       "                .geemap-colab .jupyter-button {\n",
       "                    --jp-layout-color3: var(--colab-primary-surface-color, white);\n",
       "                }\n",
       "            </style>\n",
       "            "
      ],
      "text/plain": [
       "<IPython.core.display.HTML object>"
      ]
     },
     "metadata": {},
     "output_type": "display_data"
    }
   ],
   "source": [
    "# this is a local path as the full dataset is too large to store and access in the cloud\n",
    "# File path to CSV\n",
    "csv_file_path = 'data/bld_fts_building/bld_fts_building.csv'\n",
    "\n",
    "# Chunked loading with spatial geometry handling\n",
    "chunk_size = 50000\n",
    "csv_iterator = pd.read_csv(csv_file_path, chunksize=chunk_size)\n",
    "\n",
    "# Name of the DuckDB table\n",
    "table_name = 'buildings_raw'\n",
    "\n",
    "for i, chunk in enumerate(csv_iterator):\n",
    "    # Ensure geometry is treated as WKT (string) and create a spatial column\n",
    "    chunk['geom'] = chunk['geometry'].apply(lambda wkt: f\"ST_GeomFromText('{wkt}')\" if pd.notnull(wkt) else 'NULL')\n",
    "\n",
    "    # Write the chunk to DuckDB\n",
    "    if i == 0:\n",
    "        # Create the table from the first chunk, including geometry\n",
    "        con.execute(f\"\"\"\n",
    "            CREATE TABLE IF NOT EXISTS {table_name} AS\n",
    "            SELECT *, ST_GeomFromText(geometry) AS geom\n",
    "            FROM chunk\n",
    "        \"\"\")\n",
    "    else:\n",
    "        # Insert subsequent chunks\n",
    "        con.execute(f\"\"\"\n",
    "            INSERT INTO {table_name}\n",
    "            SELECT *, ST_GeomFromText(geometry) AS geom\n",
    "            FROM chunk\n",
    "        \"\"\")\n"
   ]
  },
  {
   "cell_type": "markdown",
   "id": "5bd6315d-f2ae-4af3-af42-304458bf33c5",
   "metadata": {},
   "source": [
    "## Create height and volume columns\n",
    "\n",
    "Multiple height attributes are available in OS NGD so first create a specific \"height\" column and use the appropriate value for the height attributes.\n",
    "\n",
    "Then use the height attribute to calculate building volume using:\n",
    "\n",
    "Building Volume = _building footprint area_ x _building height_"
   ]
  },
  {
   "cell_type": "code",
   "execution_count": 7,
   "id": "e5fdceb3-386d-4b83-83f5-0466fd3b5d58",
   "metadata": {},
   "outputs": [
    {
     "data": {
      "text/html": [
       "\n",
       "            <style>\n",
       "                .geemap-dark {\n",
       "                    --jp-widgets-color: white;\n",
       "                    --jp-widgets-label-color: white;\n",
       "                    --jp-ui-font-color1: white;\n",
       "                    --jp-layout-color2: #454545;\n",
       "                    background-color: #383838;\n",
       "                }\n",
       "\n",
       "                .geemap-dark .jupyter-button {\n",
       "                    --jp-layout-color3: #383838;\n",
       "                }\n",
       "\n",
       "                .geemap-colab {\n",
       "                    background-color: var(--colab-primary-surface-color, white);\n",
       "                }\n",
       "\n",
       "                .geemap-colab .jupyter-button {\n",
       "                    --jp-layout-color3: var(--colab-primary-surface-color, white);\n",
       "                }\n",
       "            </style>\n",
       "            "
      ],
      "text/plain": [
       "<IPython.core.display.HTML object>"
      ]
     },
     "metadata": {},
     "output_type": "display_data"
    },
    {
     "data": {
      "application/vnd.jupyter.widget-view+json": {
       "model_id": "75746a01e8124799a24b9bef0dc84f16",
       "version_major": 2,
       "version_minor": 0
      },
      "text/plain": [
       "FloatProgress(value=0.0, layout=Layout(width='auto'), style=ProgressStyle(bar_color='black'))"
      ]
     },
     "metadata": {},
     "output_type": "display_data"
    },
    {
     "data": {
      "text/plain": [
       "<duckdb.duckdb.DuckDBPyConnection at 0x7f8f804ac0f0>"
      ]
     },
     "execution_count": 7,
     "metadata": {},
     "output_type": "execute_result"
    }
   ],
   "source": [
    "# Create a working copy of the table\n",
    "con.execute(\"CREATE TABLE buildings AS SELECT * FROM buildings_raw\")\n",
    "\n",
    "# Add height  and volume columns and calculate values\n",
    "con.execute(\"\"\"\n",
    "    ALTER TABLE buildings ADD COLUMN height DOUBLE;\n",
    "    ALTER TABLE buildings ADD COLUMN volume DOUBLE;\n",
    "\n",
    "    UPDATE buildings\n",
    "    SET height = COALESCE(height_relativeroofbase_m, height_absolutemin_m, 3),\n",
    "        volume = geometry_area_m2 * COALESCE(height_relativeroofbase_m, height_absolutemin_m, 3);\n",
    "\"\"\")"
   ]
  },
  {
   "cell_type": "markdown",
   "id": "28fb0d51-d295-4561-ba5f-9f259697dce3",
   "metadata": {},
   "source": [
    "Create a new table with only the required columns."
   ]
  },
  {
   "cell_type": "code",
   "execution_count": 8,
   "id": "c0f8594b-638b-49aa-960e-636a690627b7",
   "metadata": {},
   "outputs": [
    {
     "data": {
      "text/html": [
       "\n",
       "            <style>\n",
       "                .geemap-dark {\n",
       "                    --jp-widgets-color: white;\n",
       "                    --jp-widgets-label-color: white;\n",
       "                    --jp-ui-font-color1: white;\n",
       "                    --jp-layout-color2: #454545;\n",
       "                    background-color: #383838;\n",
       "                }\n",
       "\n",
       "                .geemap-dark .jupyter-button {\n",
       "                    --jp-layout-color3: #383838;\n",
       "                }\n",
       "\n",
       "                .geemap-colab {\n",
       "                    background-color: var(--colab-primary-surface-color, white);\n",
       "                }\n",
       "\n",
       "                .geemap-colab .jupyter-button {\n",
       "                    --jp-layout-color3: var(--colab-primary-surface-color, white);\n",
       "                }\n",
       "            </style>\n",
       "            "
      ],
      "text/plain": [
       "<IPython.core.display.HTML object>"
      ]
     },
     "metadata": {},
     "output_type": "display_data"
    },
    {
     "data": {
      "application/vnd.jupyter.widget-view+json": {
       "model_id": "32e591cc63d94c98b543d050cf7f28eb",
       "version_major": 2,
       "version_minor": 0
      },
      "text/plain": [
       "FloatProgress(value=0.0, layout=Layout(width='auto'), style=ProgressStyle(bar_color='black'))"
      ]
     },
     "metadata": {},
     "output_type": "display_data"
    },
    {
     "data": {
      "text/plain": [
       "<duckdb.duckdb.DuckDBPyConnection at 0x7f8f804ac0f0>"
      ]
     },
     "execution_count": 8,
     "metadata": {},
     "output_type": "execute_result"
    }
   ],
   "source": [
    "cols_to_keep = ['osid', 'height', 'volume', 'geometry_area_m2', 'geometry']\n",
    "clean_cols = ', '.join(cols_to_keep)\n",
    "\n",
    "con.execute(f\"\"\"\n",
    "    CREATE TABLE buildings_clean AS\n",
    "    SELECT {clean_cols}\n",
    "    FROM buildings;\n",
    "\"\"\")"
   ]
  },
  {
   "cell_type": "markdown",
   "id": "96e11fd4-9814-40ac-a077-efb79a485cb6",
   "metadata": {},
   "source": [
    "## Load boundary datasets\n",
    "\n",
    "Load LSOA and London boundary data and spatial query so only London LSOAs are used."
   ]
  },
  {
   "cell_type": "code",
   "execution_count": 9,
   "id": "01ea3ade-1144-4455-a280-264fca89ca72",
   "metadata": {},
   "outputs": [
    {
     "data": {
      "text/html": [
       "\n",
       "            <style>\n",
       "                .geemap-dark {\n",
       "                    --jp-widgets-color: white;\n",
       "                    --jp-widgets-label-color: white;\n",
       "                    --jp-ui-font-color1: white;\n",
       "                    --jp-layout-color2: #454545;\n",
       "                    background-color: #383838;\n",
       "                }\n",
       "\n",
       "                .geemap-dark .jupyter-button {\n",
       "                    --jp-layout-color3: #383838;\n",
       "                }\n",
       "\n",
       "                .geemap-colab {\n",
       "                    background-color: var(--colab-primary-surface-color, white);\n",
       "                }\n",
       "\n",
       "                .geemap-colab .jupyter-button {\n",
       "                    --jp-layout-color3: var(--colab-primary-surface-color, white);\n",
       "                }\n",
       "            </style>\n",
       "            "
      ],
      "text/plain": [
       "<IPython.core.display.HTML object>"
      ]
     },
     "metadata": {},
     "output_type": "display_data"
    },
    {
     "data": {
      "text/plain": [
       "<duckdb.duckdb.DuckDBPyConnection at 0x7f8f804ac0f0>"
      ]
     },
     "execution_count": 9,
     "metadata": {},
     "output_type": "execute_result"
    }
   ],
   "source": [
    "# File paths\n",
    "# london_boundary_path = 'data/gla/gla/London_GLA_Boundary.shp'\n",
    "# lsoa_path = 'data/lsoa2021_shapefile/lsoa2021.shp' #local path not required as url is now used\n",
    "london_lsoa = 'data/london_lsoa/london_lsoa.shp'\n",
    "boroughs = 'data/statistical-gis-boundaries-london/ESRI/London_Borough_Excluding_MHW.shp'\n",
    "\n",
    "# drop the table first to create a clean version\n",
    "con.execute(f\"DROP TABLE IF EXISTS london_lsoa\")\n",
    "con.execute(f\"DROP TABLE IF EXISTS london_boroughs\")\n",
    "\n",
    "# create london lsoa table\n",
    "con.execute(f\"\"\"\n",
    "    CREATE TABLE london_lsoa AS\n",
    "    SELECT *\n",
    "    FROM ST_Read('{london_lsoa}')\n",
    "\"\"\")\n",
    "\n",
    "# create london borough table\n",
    "con.execute(f\"\"\"\n",
    "    CREATE TABLE london_boroughs AS\n",
    "    SELECT NAME, GSS_CODE, geom\n",
    "    FROM ST_Read('{boroughs}')\n",
    "\"\"\")\n"
   ]
  },
  {
   "cell_type": "markdown",
   "id": "cb9643fc-3654-4e6b-94ce-121bd5e99a51",
   "metadata": {},
   "source": [
    "Add a new column containing the Borough name which will be used for aggregation later on in the process."
   ]
  },
  {
   "cell_type": "code",
   "execution_count": 10,
   "id": "faf9ef08-511f-4d94-91c7-60b683b36dd8",
   "metadata": {},
   "outputs": [
    {
     "data": {
      "text/html": [
       "\n",
       "            <style>\n",
       "                .geemap-dark {\n",
       "                    --jp-widgets-color: white;\n",
       "                    --jp-widgets-label-color: white;\n",
       "                    --jp-ui-font-color1: white;\n",
       "                    --jp-layout-color2: #454545;\n",
       "                    background-color: #383838;\n",
       "                }\n",
       "\n",
       "                .geemap-dark .jupyter-button {\n",
       "                    --jp-layout-color3: #383838;\n",
       "                }\n",
       "\n",
       "                .geemap-colab {\n",
       "                    background-color: var(--colab-primary-surface-color, white);\n",
       "                }\n",
       "\n",
       "                .geemap-colab .jupyter-button {\n",
       "                    --jp-layout-color3: var(--colab-primary-surface-color, white);\n",
       "                }\n",
       "            </style>\n",
       "            "
      ],
      "text/plain": [
       "<IPython.core.display.HTML object>"
      ]
     },
     "metadata": {},
     "output_type": "display_data"
    },
    {
     "data": {
      "text/plain": [
       "<duckdb.duckdb.DuckDBPyConnection at 0x7f8f804ac0f0>"
      ]
     },
     "execution_count": 10,
     "metadata": {},
     "output_type": "execute_result"
    }
   ],
   "source": [
    "con.execute(\"\"\"\n",
    "    ALTER TABLE london_lsoa ADD COLUMN Borough TEXT;\n",
    "    \n",
    "    UPDATE london_lsoa\n",
    "    SET Borough = SUBSTR(LSOA21NM, 1, LENGTH(LSOA21NM) - 5);\n",
    "\"\"\")"
   ]
  },
  {
   "cell_type": "code",
   "execution_count": 11,
   "id": "ab0b3484-8640-43ec-87c1-49f17fd8e6e7",
   "metadata": {},
   "outputs": [
    {
     "data": {
      "text/html": [
       "\n",
       "            <style>\n",
       "                .geemap-dark {\n",
       "                    --jp-widgets-color: white;\n",
       "                    --jp-widgets-label-color: white;\n",
       "                    --jp-ui-font-color1: white;\n",
       "                    --jp-layout-color2: #454545;\n",
       "                    background-color: #383838;\n",
       "                }\n",
       "\n",
       "                .geemap-dark .jupyter-button {\n",
       "                    --jp-layout-color3: #383838;\n",
       "                }\n",
       "\n",
       "                .geemap-colab {\n",
       "                    background-color: var(--colab-primary-surface-color, white);\n",
       "                }\n",
       "\n",
       "                .geemap-colab .jupyter-button {\n",
       "                    --jp-layout-color3: var(--colab-primary-surface-color, white);\n",
       "                }\n",
       "            </style>\n",
       "            "
      ],
      "text/plain": [
       "<IPython.core.display.HTML object>"
      ]
     },
     "metadata": {},
     "output_type": "display_data"
    },
    {
     "data": {
      "text/html": [
       "<div>\n",
       "<style scoped>\n",
       "    .dataframe tbody tr th:only-of-type {\n",
       "        vertical-align: middle;\n",
       "    }\n",
       "\n",
       "    .dataframe tbody tr th {\n",
       "        vertical-align: top;\n",
       "    }\n",
       "\n",
       "    .dataframe thead th {\n",
       "        text-align: right;\n",
       "    }\n",
       "</style>\n",
       "<table border=\"1\" class=\"dataframe\">\n",
       "  <thead>\n",
       "    <tr style=\"text-align: right;\">\n",
       "      <th></th>\n",
       "      <th>FID</th>\n",
       "      <th>LSOA21CD</th>\n",
       "      <th>LSOA21NM</th>\n",
       "      <th>LSOA21NMW</th>\n",
       "      <th>BNG_E</th>\n",
       "      <th>BNG_N</th>\n",
       "      <th>LAT</th>\n",
       "      <th>LONG</th>\n",
       "      <th>Shape__Are</th>\n",
       "      <th>Shape__Len</th>\n",
       "      <th>GlobalID</th>\n",
       "      <th>CentroidX</th>\n",
       "      <th>CentroidY</th>\n",
       "      <th>geom</th>\n",
       "      <th>Borough</th>\n",
       "    </tr>\n",
       "  </thead>\n",
       "  <tbody>\n",
       "    <tr>\n",
       "      <th>0</th>\n",
       "      <td>1</td>\n",
       "      <td>E01000001</td>\n",
       "      <td>City of London 001A</td>\n",
       "      <td>None</td>\n",
       "      <td>532123</td>\n",
       "      <td>181632</td>\n",
       "      <td>51.51817</td>\n",
       "      <td>-0.097150</td>\n",
       "      <td>133759.153557</td>\n",
       "      <td>2289.743177</td>\n",
       "      <td>86214465-5cf4-4e8f-9492-3667471c42d6</td>\n",
       "      <td>532151</td>\n",
       "      <td>181615</td>\n",
       "      <td>[2, 4, 0, 0, 0, 0, 0, 0, 197, 222, 1, 73, 221,...</td>\n",
       "      <td>City of London</td>\n",
       "    </tr>\n",
       "    <tr>\n",
       "      <th>1</th>\n",
       "      <td>2</td>\n",
       "      <td>E01000002</td>\n",
       "      <td>City of London 001B</td>\n",
       "      <td>None</td>\n",
       "      <td>532480</td>\n",
       "      <td>181715</td>\n",
       "      <td>51.51883</td>\n",
       "      <td>-0.091970</td>\n",
       "      <td>225673.949043</td>\n",
       "      <td>2486.578125</td>\n",
       "      <td>cd40c491-6567-405f-8c18-426e17b356ce</td>\n",
       "      <td>532444</td>\n",
       "      <td>181646</td>\n",
       "      <td>[2, 4, 0, 0, 0, 0, 0, 0, 81, 239, 1, 73, 56, 2...</td>\n",
       "      <td>City of London</td>\n",
       "    </tr>\n",
       "    <tr>\n",
       "      <th>2</th>\n",
       "      <td>3</td>\n",
       "      <td>E01000003</td>\n",
       "      <td>City of London 001C</td>\n",
       "      <td>None</td>\n",
       "      <td>532239</td>\n",
       "      <td>182033</td>\n",
       "      <td>51.52174</td>\n",
       "      <td>-0.095330</td>\n",
       "      <td>57288.376411</td>\n",
       "      <td>1142.183482</td>\n",
       "      <td>7fd27aaf-d858-4e46-9099-92b43f66b948</td>\n",
       "      <td>532207</td>\n",
       "      <td>182030</td>\n",
       "      <td>[2, 4, 0, 0, 0, 0, 0, 0, 117, 230, 1, 73, 241,...</td>\n",
       "      <td>City of London</td>\n",
       "    </tr>\n",
       "    <tr>\n",
       "      <th>3</th>\n",
       "      <td>4</td>\n",
       "      <td>E01000005</td>\n",
       "      <td>City of London 001E</td>\n",
       "      <td>None</td>\n",
       "      <td>533581</td>\n",
       "      <td>181283</td>\n",
       "      <td>51.51469</td>\n",
       "      <td>-0.076280</td>\n",
       "      <td>190508.858498</td>\n",
       "      <td>2167.942170</td>\n",
       "      <td>7e76a16a-028f-4f49-84b5-6e5a67322f3c</td>\n",
       "      <td>533618</td>\n",
       "      <td>181157</td>\n",
       "      <td>[2, 4, 0, 0, 0, 0, 0, 0, 115, 52, 2, 73, 120, ...</td>\n",
       "      <td>City of London</td>\n",
       "    </tr>\n",
       "    <tr>\n",
       "      <th>4</th>\n",
       "      <td>5</td>\n",
       "      <td>E01000006</td>\n",
       "      <td>Barking and Dagenham 016A</td>\n",
       "      <td>None</td>\n",
       "      <td>544994</td>\n",
       "      <td>184274</td>\n",
       "      <td>51.53875</td>\n",
       "      <td>0.089317</td>\n",
       "      <td>144195.364548</td>\n",
       "      <td>1935.412725</td>\n",
       "      <td>25ab047e-6fcf-4f76-9176-e92e44c0e097</td>\n",
       "      <td>544934</td>\n",
       "      <td>184298</td>\n",
       "      <td>[2, 4, 0, 0, 0, 0, 0, 0, 56, 251, 4, 73, 233, ...</td>\n",
       "      <td>Barking and Dagenham</td>\n",
       "    </tr>\n",
       "  </tbody>\n",
       "</table>\n",
       "</div>"
      ],
      "text/plain": [
       "   FID   LSOA21CD                   LSOA21NM LSOA21NMW   BNG_E   BNG_N  \\\n",
       "0    1  E01000001        City of London 001A      None  532123  181632   \n",
       "1    2  E01000002        City of London 001B      None  532480  181715   \n",
       "2    3  E01000003        City of London 001C      None  532239  182033   \n",
       "3    4  E01000005        City of London 001E      None  533581  181283   \n",
       "4    5  E01000006  Barking and Dagenham 016A      None  544994  184274   \n",
       "\n",
       "        LAT      LONG     Shape__Are   Shape__Len  \\\n",
       "0  51.51817 -0.097150  133759.153557  2289.743177   \n",
       "1  51.51883 -0.091970  225673.949043  2486.578125   \n",
       "2  51.52174 -0.095330   57288.376411  1142.183482   \n",
       "3  51.51469 -0.076280  190508.858498  2167.942170   \n",
       "4  51.53875  0.089317  144195.364548  1935.412725   \n",
       "\n",
       "                               GlobalID  CentroidX  CentroidY  \\\n",
       "0  86214465-5cf4-4e8f-9492-3667471c42d6     532151     181615   \n",
       "1  cd40c491-6567-405f-8c18-426e17b356ce     532444     181646   \n",
       "2  7fd27aaf-d858-4e46-9099-92b43f66b948     532207     182030   \n",
       "3  7e76a16a-028f-4f49-84b5-6e5a67322f3c     533618     181157   \n",
       "4  25ab047e-6fcf-4f76-9176-e92e44c0e097     544934     184298   \n",
       "\n",
       "                                                geom               Borough  \n",
       "0  [2, 4, 0, 0, 0, 0, 0, 0, 197, 222, 1, 73, 221,...        City of London  \n",
       "1  [2, 4, 0, 0, 0, 0, 0, 0, 81, 239, 1, 73, 56, 2...        City of London  \n",
       "2  [2, 4, 0, 0, 0, 0, 0, 0, 117, 230, 1, 73, 241,...        City of London  \n",
       "3  [2, 4, 0, 0, 0, 0, 0, 0, 115, 52, 2, 73, 120, ...        City of London  \n",
       "4  [2, 4, 0, 0, 0, 0, 0, 0, 56, 251, 4, 73, 233, ...  Barking and Dagenham  "
      ]
     },
     "execution_count": 11,
     "metadata": {},
     "output_type": "execute_result"
    }
   ],
   "source": [
    "lon_lsoa = con.execute(\"SELECT * FROM london_lsoa\").df()\n",
    "lon_lsoa.head(5)\n",
    "\n",
    "#lon_boro = con.execute(\"SELECT * FROM london_boroughs\").df()\n",
    "#lon_boro.head(5)"
   ]
  },
  {
   "cell_type": "markdown",
   "id": "93128c49-3b63-4517-93e1-8bd151a4d658",
   "metadata": {},
   "source": [
    "## Process total building mass per LSOA\n",
    "\n",
    "LSOAs are now split into batches to process the sum of building volumes, also adding building counts per LSOA. "
   ]
  },
  {
   "cell_type": "code",
   "execution_count": 13,
   "id": "94fef3df-6f6e-45ab-bd2d-402e57d91336",
   "metadata": {},
   "outputs": [
    {
     "data": {
      "text/html": [
       "\n",
       "            <style>\n",
       "                .geemap-dark {\n",
       "                    --jp-widgets-color: white;\n",
       "                    --jp-widgets-label-color: white;\n",
       "                    --jp-ui-font-color1: white;\n",
       "                    --jp-layout-color2: #454545;\n",
       "                    background-color: #383838;\n",
       "                }\n",
       "\n",
       "                .geemap-dark .jupyter-button {\n",
       "                    --jp-layout-color3: #383838;\n",
       "                }\n",
       "\n",
       "                .geemap-colab {\n",
       "                    background-color: var(--colab-primary-surface-color, white);\n",
       "                }\n",
       "\n",
       "                .geemap-colab .jupyter-button {\n",
       "                    --jp-layout-color3: var(--colab-primary-surface-color, white);\n",
       "                }\n",
       "            </style>\n",
       "            "
      ],
      "text/plain": [
       "<IPython.core.display.HTML object>"
      ]
     },
     "metadata": {},
     "output_type": "display_data"
    },
    {
     "data": {
      "application/vnd.jupyter.widget-view+json": {
       "model_id": "601f35d1f9254475a7a2d3b133f7db1d",
       "version_major": 2,
       "version_minor": 0
      },
      "text/plain": [
       "FloatProgress(value=0.0, layout=Layout(width='auto'), style=ProgressStyle(bar_color='black'))"
      ]
     },
     "metadata": {},
     "output_type": "display_data"
    },
    {
     "data": {
      "application/vnd.jupyter.widget-view+json": {
       "model_id": "b98659c4de3d4b2faffe15be23f1d399",
       "version_major": 2,
       "version_minor": 0
      },
      "text/plain": [
       "FloatProgress(value=0.0, layout=Layout(width='auto'), style=ProgressStyle(bar_color='black'))"
      ]
     },
     "metadata": {},
     "output_type": "display_data"
    },
    {
     "data": {
      "application/vnd.jupyter.widget-view+json": {
       "model_id": "c0953834f873442c813c9a28ab561656",
       "version_major": 2,
       "version_minor": 0
      },
      "text/plain": [
       "FloatProgress(value=0.0, layout=Layout(width='auto'), style=ProgressStyle(bar_color='black'))"
      ]
     },
     "metadata": {},
     "output_type": "display_data"
    },
    {
     "data": {
      "application/vnd.jupyter.widget-view+json": {
       "model_id": "7315eb9e57244a26b2768642dc727e7a",
       "version_major": 2,
       "version_minor": 0
      },
      "text/plain": [
       "FloatProgress(value=0.0, layout=Layout(width='auto'), style=ProgressStyle(bar_color='black'))"
      ]
     },
     "metadata": {},
     "output_type": "display_data"
    },
    {
     "data": {
      "application/vnd.jupyter.widget-view+json": {
       "model_id": "3aa29225ec03467cbc1740e2e8b5b7ed",
       "version_major": 2,
       "version_minor": 0
      },
      "text/plain": [
       "FloatProgress(value=0.0, layout=Layout(width='auto'), style=ProgressStyle(bar_color='black'))"
      ]
     },
     "metadata": {},
     "output_type": "display_data"
    },
    {
     "data": {
      "application/vnd.jupyter.widget-view+json": {
       "model_id": "8bd3da6bae454d4bbbb6c6c6298a142c",
       "version_major": 2,
       "version_minor": 0
      },
      "text/plain": [
       "FloatProgress(value=0.0, layout=Layout(width='auto'), style=ProgressStyle(bar_color='black'))"
      ]
     },
     "metadata": {},
     "output_type": "display_data"
    },
    {
     "data": {
      "application/vnd.jupyter.widget-view+json": {
       "model_id": "af6cacdfa30a4ac7ad0fdd5c82d000a7",
       "version_major": 2,
       "version_minor": 0
      },
      "text/plain": [
       "FloatProgress(value=0.0, layout=Layout(width='auto'), style=ProgressStyle(bar_color='black'))"
      ]
     },
     "metadata": {},
     "output_type": "display_data"
    },
    {
     "data": {
      "application/vnd.jupyter.widget-view+json": {
       "model_id": "c54c3ef808a84843af6893592488a278",
       "version_major": 2,
       "version_minor": 0
      },
      "text/plain": [
       "FloatProgress(value=0.0, layout=Layout(width='auto'), style=ProgressStyle(bar_color='black'))"
      ]
     },
     "metadata": {},
     "output_type": "display_data"
    },
    {
     "data": {
      "application/vnd.jupyter.widget-view+json": {
       "model_id": "a05dcfc190324aefbf77be67550aea8b",
       "version_major": 2,
       "version_minor": 0
      },
      "text/plain": [
       "FloatProgress(value=0.0, layout=Layout(width='auto'), style=ProgressStyle(bar_color='black'))"
      ]
     },
     "metadata": {},
     "output_type": "display_data"
    },
    {
     "data": {
      "application/vnd.jupyter.widget-view+json": {
       "model_id": "269cba0ce11b4f68a2e4495aa2a57d02",
       "version_major": 2,
       "version_minor": 0
      },
      "text/plain": [
       "FloatProgress(value=0.0, layout=Layout(width='auto'), style=ProgressStyle(bar_color='black'))"
      ]
     },
     "metadata": {},
     "output_type": "display_data"
    },
    {
     "data": {
      "application/vnd.jupyter.widget-view+json": {
       "model_id": "108a7cfaf24c4e32a43656e22ffca657",
       "version_major": 2,
       "version_minor": 0
      },
      "text/plain": [
       "FloatProgress(value=0.0, layout=Layout(width='auto'), style=ProgressStyle(bar_color='black'))"
      ]
     },
     "metadata": {},
     "output_type": "display_data"
    },
    {
     "data": {
      "application/vnd.jupyter.widget-view+json": {
       "model_id": "4bffb5aaa3414389a0780cf51964dac9",
       "version_major": 2,
       "version_minor": 0
      },
      "text/plain": [
       "FloatProgress(value=0.0, layout=Layout(width='auto'), style=ProgressStyle(bar_color='black'))"
      ]
     },
     "metadata": {},
     "output_type": "display_data"
    },
    {
     "data": {
      "application/vnd.jupyter.widget-view+json": {
       "model_id": "387011a2be27497e9d76da7c7d20449d",
       "version_major": 2,
       "version_minor": 0
      },
      "text/plain": [
       "FloatProgress(value=0.0, layout=Layout(width='auto'), style=ProgressStyle(bar_color='black'))"
      ]
     },
     "metadata": {},
     "output_type": "display_data"
    },
    {
     "data": {
      "application/vnd.jupyter.widget-view+json": {
       "model_id": "65a2857580d9434eb59e152f30386f63",
       "version_major": 2,
       "version_minor": 0
      },
      "text/plain": [
       "FloatProgress(value=0.0, layout=Layout(width='auto'), style=ProgressStyle(bar_color='black'))"
      ]
     },
     "metadata": {},
     "output_type": "display_data"
    },
    {
     "data": {
      "application/vnd.jupyter.widget-view+json": {
       "model_id": "66b1b604bafc4181a54aa095f1e962ab",
       "version_major": 2,
       "version_minor": 0
      },
      "text/plain": [
       "FloatProgress(value=0.0, layout=Layout(width='auto'), style=ProgressStyle(bar_color='black'))"
      ]
     },
     "metadata": {},
     "output_type": "display_data"
    },
    {
     "data": {
      "application/vnd.jupyter.widget-view+json": {
       "model_id": "084c133769404e9c9f068d5a2995f08f",
       "version_major": 2,
       "version_minor": 0
      },
      "text/plain": [
       "FloatProgress(value=0.0, layout=Layout(width='auto'), style=ProgressStyle(bar_color='black'))"
      ]
     },
     "metadata": {},
     "output_type": "display_data"
    },
    {
     "data": {
      "application/vnd.jupyter.widget-view+json": {
       "model_id": "28e2ecba709d4c35b9355545fc8e1574",
       "version_major": 2,
       "version_minor": 0
      },
      "text/plain": [
       "FloatProgress(value=0.0, layout=Layout(width='auto'), style=ProgressStyle(bar_color='black'))"
      ]
     },
     "metadata": {},
     "output_type": "display_data"
    },
    {
     "data": {
      "application/vnd.jupyter.widget-view+json": {
       "model_id": "ab0385e859ed418ba21c67617304d0f4",
       "version_major": 2,
       "version_minor": 0
      },
      "text/plain": [
       "FloatProgress(value=0.0, layout=Layout(width='auto'), style=ProgressStyle(bar_color='black'))"
      ]
     },
     "metadata": {},
     "output_type": "display_data"
    },
    {
     "data": {
      "application/vnd.jupyter.widget-view+json": {
       "model_id": "2cd7af30bc0d4d6bb4a53536d19ab748",
       "version_major": 2,
       "version_minor": 0
      },
      "text/plain": [
       "FloatProgress(value=0.0, layout=Layout(width='auto'), style=ProgressStyle(bar_color='black'))"
      ]
     },
     "metadata": {},
     "output_type": "display_data"
    },
    {
     "data": {
      "application/vnd.jupyter.widget-view+json": {
       "model_id": "aa1f8db207c34ebea65a1ab638b3785f",
       "version_major": 2,
       "version_minor": 0
      },
      "text/plain": [
       "FloatProgress(value=0.0, layout=Layout(width='auto'), style=ProgressStyle(bar_color='black'))"
      ]
     },
     "metadata": {},
     "output_type": "display_data"
    }
   ],
   "source": [
    "# Get all LSOA codes\n",
    "lsoa_codes = con.execute(\"\"\"\n",
    "    SELECT DISTINCT LSOA21CD\n",
    "    FROM london_lsoa;\n",
    "    \"\"\").fetchdf()['LSOA21CD'].tolist()\n",
    "\n",
    "# Split into batches\n",
    "batch_size = 250\n",
    "batches = [lsoa_codes[i:i + batch_size] for i in range(0, len(lsoa_codes), batch_size)]\n",
    "\n",
    "# Create the table before the loop if it doesn't exist\n",
    "con.execute(\"\"\"\n",
    "    CREATE TABLE IF NOT EXISTS london_LSOAs_vol (\n",
    "        LSOA21CD VARCHAR PRIMARY KEY,\n",
    "        borough VARCHAR,\n",
    "        building_count INTEGER,\n",
    "        total_volume DOUBLE,\n",
    "        geom GEOMETRY\n",
    "    )\n",
    "\"\"\")\n",
    "\n",
    "for batch in batches:\n",
    "    # Convert to SQL IN clause\n",
    "    code_list = ','.join(f\"'{code}'\" for code in batch)\n",
    "\n",
    "    query = f\"\"\"\n",
    "        INSERT INTO london_LSOAs_vol\n",
    "        SELECT\n",
    "            l.LSOA21CD,\n",
    "            l.Borough AS borough,\n",
    "            COUNT(*) AS building_count,\n",
    "            SUM(b.volume) AS total_volume,\n",
    "            l.geom\n",
    "        FROM london_lsoa l\n",
    "        JOIN buildings b\n",
    "        ON ST_Intersects(l.geom, ST_GeomFromText(b.geometry))\n",
    "        WHERE l.LSOA21CD IN ({code_list})\n",
    "        GROUP BY l.LSOA21CD, l.geom, l.Borough;\n",
    "    \"\"\"\n",
    "\n",
    "    con.execute(query)"
   ]
  },
  {
   "cell_type": "code",
   "execution_count": 14,
   "id": "1ef80cb1-5b00-45cd-bcba-1651d3d897a5",
   "metadata": {},
   "outputs": [
    {
     "data": {
      "text/html": [
       "\n",
       "            <style>\n",
       "                .geemap-dark {\n",
       "                    --jp-widgets-color: white;\n",
       "                    --jp-widgets-label-color: white;\n",
       "                    --jp-ui-font-color1: white;\n",
       "                    --jp-layout-color2: #454545;\n",
       "                    background-color: #383838;\n",
       "                }\n",
       "\n",
       "                .geemap-dark .jupyter-button {\n",
       "                    --jp-layout-color3: #383838;\n",
       "                }\n",
       "\n",
       "                .geemap-colab {\n",
       "                    background-color: var(--colab-primary-surface-color, white);\n",
       "                }\n",
       "\n",
       "                .geemap-colab .jupyter-button {\n",
       "                    --jp-layout-color3: var(--colab-primary-surface-color, white);\n",
       "                }\n",
       "            </style>\n",
       "            "
      ],
      "text/plain": [
       "<IPython.core.display.HTML object>"
      ]
     },
     "metadata": {},
     "output_type": "display_data"
    },
    {
     "data": {
      "text/html": [
       "<div>\n",
       "<style scoped>\n",
       "    .dataframe tbody tr th:only-of-type {\n",
       "        vertical-align: middle;\n",
       "    }\n",
       "\n",
       "    .dataframe tbody tr th {\n",
       "        vertical-align: top;\n",
       "    }\n",
       "\n",
       "    .dataframe thead th {\n",
       "        text-align: right;\n",
       "    }\n",
       "</style>\n",
       "<table border=\"1\" class=\"dataframe\">\n",
       "  <thead>\n",
       "    <tr style=\"text-align: right;\">\n",
       "      <th></th>\n",
       "      <th>LSOA21CD</th>\n",
       "      <th>borough</th>\n",
       "      <th>building_count</th>\n",
       "      <th>total_volume</th>\n",
       "      <th>geom</th>\n",
       "    </tr>\n",
       "  </thead>\n",
       "  <tbody>\n",
       "    <tr>\n",
       "      <th>0</th>\n",
       "      <td>E01002240</td>\n",
       "      <td>Harrow</td>\n",
       "      <td>649</td>\n",
       "      <td>342690.2761</td>\n",
       "      <td>[2, 4, 0, 0, 0, 0, 0, 0, 29, 32, 251, 72, 63, ...</td>\n",
       "    </tr>\n",
       "    <tr>\n",
       "      <th>1</th>\n",
       "      <td>E01000611</td>\n",
       "      <td>Brent</td>\n",
       "      <td>487</td>\n",
       "      <td>403976.5088</td>\n",
       "      <td>[2, 4, 0, 0, 0, 0, 0, 0, 29, 40, 252, 72, 245,...</td>\n",
       "    </tr>\n",
       "    <tr>\n",
       "      <th>2</th>\n",
       "      <td>E01000569</td>\n",
       "      <td>Brent</td>\n",
       "      <td>880</td>\n",
       "      <td>549699.7797</td>\n",
       "      <td>[2, 4, 0, 0, 0, 0, 0, 0, 8, 60, 252, 72, 80, 1...</td>\n",
       "    </tr>\n",
       "    <tr>\n",
       "      <th>3</th>\n",
       "      <td>E01000290</td>\n",
       "      <td>Barnet</td>\n",
       "      <td>1086</td>\n",
       "      <td>626757.8320</td>\n",
       "      <td>[2, 4, 0, 0, 0, 0, 0, 0, 93, 221, 253, 72, 14,...</td>\n",
       "    </tr>\n",
       "    <tr>\n",
       "      <th>4</th>\n",
       "      <td>E01000139</td>\n",
       "      <td>Barnet</td>\n",
       "      <td>475</td>\n",
       "      <td>547905.8265</td>\n",
       "      <td>[2, 4, 0, 0, 0, 0, 0, 0, 160, 242, 255, 72, 13...</td>\n",
       "    </tr>\n",
       "    <tr>\n",
       "      <th>5</th>\n",
       "      <td>E01000296</td>\n",
       "      <td>Barnet</td>\n",
       "      <td>575</td>\n",
       "      <td>551556.3759</td>\n",
       "      <td>[2, 4, 0, 0, 0, 0, 0, 0, 139, 28, 0, 73, 222, ...</td>\n",
       "    </tr>\n",
       "    <tr>\n",
       "      <th>6</th>\n",
       "      <td>E01002028</td>\n",
       "      <td>Haringey</td>\n",
       "      <td>646</td>\n",
       "      <td>229724.5508</td>\n",
       "      <td>[2, 4, 0, 0, 0, 0, 0, 0, 185, 208, 1, 73, 228,...</td>\n",
       "    </tr>\n",
       "    <tr>\n",
       "      <th>7</th>\n",
       "      <td>E01001033</td>\n",
       "      <td>Croydon</td>\n",
       "      <td>777</td>\n",
       "      <td>491537.3522</td>\n",
       "      <td>[2, 4, 0, 0, 0, 0, 0, 0, 244, 222, 1, 73, 254,...</td>\n",
       "    </tr>\n",
       "    <tr>\n",
       "      <th>8</th>\n",
       "      <td>E01002057</td>\n",
       "      <td>Haringey</td>\n",
       "      <td>580</td>\n",
       "      <td>372719.8103</td>\n",
       "      <td>[2, 4, 0, 0, 0, 0, 0, 0, 108, 225, 1, 73, 36, ...</td>\n",
       "    </tr>\n",
       "    <tr>\n",
       "      <th>9</th>\n",
       "      <td>E01000984</td>\n",
       "      <td>Croydon</td>\n",
       "      <td>574</td>\n",
       "      <td>390506.5595</td>\n",
       "      <td>[2, 4, 0, 0, 0, 0, 0, 0, 75, 44, 2, 73, 0, 93,...</td>\n",
       "    </tr>\n",
       "  </tbody>\n",
       "</table>\n",
       "</div>"
      ],
      "text/plain": [
       "    LSOA21CD   borough  building_count  total_volume  \\\n",
       "0  E01002240    Harrow             649   342690.2761   \n",
       "1  E01000611     Brent             487   403976.5088   \n",
       "2  E01000569     Brent             880   549699.7797   \n",
       "3  E01000290    Barnet            1086   626757.8320   \n",
       "4  E01000139    Barnet             475   547905.8265   \n",
       "5  E01000296    Barnet             575   551556.3759   \n",
       "6  E01002028  Haringey             646   229724.5508   \n",
       "7  E01001033   Croydon             777   491537.3522   \n",
       "8  E01002057  Haringey             580   372719.8103   \n",
       "9  E01000984   Croydon             574   390506.5595   \n",
       "\n",
       "                                                geom  \n",
       "0  [2, 4, 0, 0, 0, 0, 0, 0, 29, 32, 251, 72, 63, ...  \n",
       "1  [2, 4, 0, 0, 0, 0, 0, 0, 29, 40, 252, 72, 245,...  \n",
       "2  [2, 4, 0, 0, 0, 0, 0, 0, 8, 60, 252, 72, 80, 1...  \n",
       "3  [2, 4, 0, 0, 0, 0, 0, 0, 93, 221, 253, 72, 14,...  \n",
       "4  [2, 4, 0, 0, 0, 0, 0, 0, 160, 242, 255, 72, 13...  \n",
       "5  [2, 4, 0, 0, 0, 0, 0, 0, 139, 28, 0, 73, 222, ...  \n",
       "6  [2, 4, 0, 0, 0, 0, 0, 0, 185, 208, 1, 73, 228,...  \n",
       "7  [2, 4, 0, 0, 0, 0, 0, 0, 244, 222, 1, 73, 254,...  \n",
       "8  [2, 4, 0, 0, 0, 0, 0, 0, 108, 225, 1, 73, 36, ...  \n",
       "9  [2, 4, 0, 0, 0, 0, 0, 0, 75, 44, 2, 73, 0, 93,...  "
      ]
     },
     "execution_count": 14,
     "metadata": {},
     "output_type": "execute_result"
    }
   ],
   "source": [
    "# Fetch all results after the loop\n",
    "building_volume_lsoa = con.execute(\"SELECT * FROM london_LSOAs_vol\").df()\n",
    "\n",
    "building_volume_lsoa.head(10)"
   ]
  },
  {
   "cell_type": "markdown",
   "id": "bdbb3617-60bc-4d5a-920d-87ba43417a12",
   "metadata": {},
   "source": [
    "## Calculate Building Volume Mass\n",
    "\n",
    "Calculate the areas of LSOAs and the building mass density.\n",
    "\n",
    "**Building Mass Density = _LSOA area_ x _total building volume_**"
   ]
  },
  {
   "cell_type": "code",
   "execution_count": 15,
   "id": "39ecb086-5d00-43e9-ac5a-50c0c0aec7aa",
   "metadata": {
    "scrolled": true
   },
   "outputs": [
    {
     "data": {
      "text/html": [
       "\n",
       "            <style>\n",
       "                .geemap-dark {\n",
       "                    --jp-widgets-color: white;\n",
       "                    --jp-widgets-label-color: white;\n",
       "                    --jp-ui-font-color1: white;\n",
       "                    --jp-layout-color2: #454545;\n",
       "                    background-color: #383838;\n",
       "                }\n",
       "\n",
       "                .geemap-dark .jupyter-button {\n",
       "                    --jp-layout-color3: #383838;\n",
       "                }\n",
       "\n",
       "                .geemap-colab {\n",
       "                    background-color: var(--colab-primary-surface-color, white);\n",
       "                }\n",
       "\n",
       "                .geemap-colab .jupyter-button {\n",
       "                    --jp-layout-color3: var(--colab-primary-surface-color, white);\n",
       "                }\n",
       "            </style>\n",
       "            "
      ],
      "text/plain": [
       "<IPython.core.display.HTML object>"
      ]
     },
     "metadata": {},
     "output_type": "display_data"
    },
    {
     "data": {
      "text/plain": [
       "<duckdb.duckdb.DuckDBPyConnection at 0x7f8f804ac0f0>"
      ]
     },
     "execution_count": 15,
     "metadata": {},
     "output_type": "execute_result"
    }
   ],
   "source": [
    "# Calculate area for each LSOA (assuming CRS in meters)\n",
    "con.execute(\"\"\"\n",
    "    ALTER TABLE london_LSOAs_vol ADD COLUMN area_m2 DOUBLE;\n",
    "    UPDATE london_LSOAs_vol\n",
    "    SET area_m2 = ST_Area(geom);\n",
    "\"\"\")"
   ]
  },
  {
   "cell_type": "code",
   "execution_count": 16,
   "id": "5d9bad49-4d43-4de3-b52c-b3896dab361a",
   "metadata": {},
   "outputs": [
    {
     "data": {
      "text/html": [
       "\n",
       "            <style>\n",
       "                .geemap-dark {\n",
       "                    --jp-widgets-color: white;\n",
       "                    --jp-widgets-label-color: white;\n",
       "                    --jp-ui-font-color1: white;\n",
       "                    --jp-layout-color2: #454545;\n",
       "                    background-color: #383838;\n",
       "                }\n",
       "\n",
       "                .geemap-dark .jupyter-button {\n",
       "                    --jp-layout-color3: #383838;\n",
       "                }\n",
       "\n",
       "                .geemap-colab {\n",
       "                    background-color: var(--colab-primary-surface-color, white);\n",
       "                }\n",
       "\n",
       "                .geemap-colab .jupyter-button {\n",
       "                    --jp-layout-color3: var(--colab-primary-surface-color, white);\n",
       "                }\n",
       "            </style>\n",
       "            "
      ],
      "text/plain": [
       "<IPython.core.display.HTML object>"
      ]
     },
     "metadata": {},
     "output_type": "display_data"
    },
    {
     "data": {
      "text/plain": [
       "<duckdb.duckdb.DuckDBPyConnection at 0x7f8f804ac0f0>"
      ]
     },
     "execution_count": 16,
     "metadata": {},
     "output_type": "execute_result"
    }
   ],
   "source": [
    "# Calculate building mass density for each LSOA\n",
    "con.execute(\"\"\"\n",
    "    ALTER TABLE london_LSOAs_vol ADD COLUMN building_mass_density DOUBLE;\n",
    "    UPDATE london_LSOAs_vol\n",
    "    SET building_mass_density = total_volume / area_m2;\n",
    "\"\"\")"
   ]
  },
  {
   "cell_type": "markdown",
   "id": "1f2acbb7-509c-4790-96a4-501d6225bad7",
   "metadata": {},
   "source": [
    "## Tidy data into a clean table\n",
    "\n",
    "Create final table for Urban Heat Index calculation."
   ]
  },
  {
   "cell_type": "code",
   "execution_count": 17,
   "id": "aea910a1-4995-4fd9-b965-a830cece8ce2",
   "metadata": {},
   "outputs": [
    {
     "data": {
      "text/html": [
       "\n",
       "            <style>\n",
       "                .geemap-dark {\n",
       "                    --jp-widgets-color: white;\n",
       "                    --jp-widgets-label-color: white;\n",
       "                    --jp-ui-font-color1: white;\n",
       "                    --jp-layout-color2: #454545;\n",
       "                    background-color: #383838;\n",
       "                }\n",
       "\n",
       "                .geemap-dark .jupyter-button {\n",
       "                    --jp-layout-color3: #383838;\n",
       "                }\n",
       "\n",
       "                .geemap-colab {\n",
       "                    background-color: var(--colab-primary-surface-color, white);\n",
       "                }\n",
       "\n",
       "                .geemap-colab .jupyter-button {\n",
       "                    --jp-layout-color3: var(--colab-primary-surface-color, white);\n",
       "                }\n",
       "            </style>\n",
       "            "
      ],
      "text/plain": [
       "<IPython.core.display.HTML object>"
      ]
     },
     "metadata": {},
     "output_type": "display_data"
    },
    {
     "data": {
      "text/plain": [
       "<duckdb.duckdb.DuckDBPyConnection at 0x7f8f804ac0f0>"
      ]
     },
     "execution_count": 17,
     "metadata": {},
     "output_type": "execute_result"
    }
   ],
   "source": [
    "# Group by LSOA and calculate the total volume\n",
    "# the geometry is removed here so we can join back to the cleam lsoa geometry\n",
    "# table later\n",
    "con.execute(\"\"\"\n",
    "    DROP TABLE IF EXISTS lsoa_bmd;\n",
    "\n",
    "    CREATE TABLE lsoa_bmd AS\n",
    "    SELECT LSOA21CD, borough, total_volume, building_count, building_mass_density\n",
    "    FROM london_LSOAs_vol;\n",
    "\"\"\")"
   ]
  },
  {
   "cell_type": "markdown",
   "id": "b08e18bc-5fa6-49dd-a643-23eca90bc130",
   "metadata": {},
   "source": [
    "## Check the data"
   ]
  },
  {
   "cell_type": "code",
   "execution_count": 18,
   "id": "7362810f-5c39-49fc-bed2-9969ce49883d",
   "metadata": {},
   "outputs": [
    {
     "data": {
      "text/html": [
       "\n",
       "            <style>\n",
       "                .geemap-dark {\n",
       "                    --jp-widgets-color: white;\n",
       "                    --jp-widgets-label-color: white;\n",
       "                    --jp-ui-font-color1: white;\n",
       "                    --jp-layout-color2: #454545;\n",
       "                    background-color: #383838;\n",
       "                }\n",
       "\n",
       "                .geemap-dark .jupyter-button {\n",
       "                    --jp-layout-color3: #383838;\n",
       "                }\n",
       "\n",
       "                .geemap-colab {\n",
       "                    background-color: var(--colab-primary-surface-color, white);\n",
       "                }\n",
       "\n",
       "                .geemap-colab .jupyter-button {\n",
       "                    --jp-layout-color3: var(--colab-primary-surface-color, white);\n",
       "                }\n",
       "            </style>\n",
       "            "
      ],
      "text/plain": [
       "<IPython.core.display.HTML object>"
      ]
     },
     "metadata": {},
     "output_type": "display_data"
    },
    {
     "data": {
      "text/html": [
       "<div>\n",
       "<style scoped>\n",
       "    .dataframe tbody tr th:only-of-type {\n",
       "        vertical-align: middle;\n",
       "    }\n",
       "\n",
       "    .dataframe tbody tr th {\n",
       "        vertical-align: top;\n",
       "    }\n",
       "\n",
       "    .dataframe thead th {\n",
       "        text-align: right;\n",
       "    }\n",
       "</style>\n",
       "<table border=\"1\" class=\"dataframe\">\n",
       "  <thead>\n",
       "    <tr style=\"text-align: right;\">\n",
       "      <th></th>\n",
       "      <th>LSOA21CD</th>\n",
       "      <th>borough</th>\n",
       "      <th>total_volume</th>\n",
       "      <th>building_count</th>\n",
       "      <th>building_mass_density</th>\n",
       "    </tr>\n",
       "  </thead>\n",
       "  <tbody>\n",
       "    <tr>\n",
       "      <th>0</th>\n",
       "      <td>E01002240</td>\n",
       "      <td>Harrow</td>\n",
       "      <td>342690.2761</td>\n",
       "      <td>649</td>\n",
       "      <td>2.040970</td>\n",
       "    </tr>\n",
       "    <tr>\n",
       "      <th>1</th>\n",
       "      <td>E01000611</td>\n",
       "      <td>Brent</td>\n",
       "      <td>403976.5088</td>\n",
       "      <td>487</td>\n",
       "      <td>3.343012</td>\n",
       "    </tr>\n",
       "    <tr>\n",
       "      <th>2</th>\n",
       "      <td>E01000569</td>\n",
       "      <td>Brent</td>\n",
       "      <td>549699.7797</td>\n",
       "      <td>880</td>\n",
       "      <td>1.475159</td>\n",
       "    </tr>\n",
       "    <tr>\n",
       "      <th>3</th>\n",
       "      <td>E01000290</td>\n",
       "      <td>Barnet</td>\n",
       "      <td>626757.8320</td>\n",
       "      <td>1086</td>\n",
       "      <td>0.306555</td>\n",
       "    </tr>\n",
       "    <tr>\n",
       "      <th>4</th>\n",
       "      <td>E01000139</td>\n",
       "      <td>Barnet</td>\n",
       "      <td>547905.8265</td>\n",
       "      <td>475</td>\n",
       "      <td>1.555343</td>\n",
       "    </tr>\n",
       "  </tbody>\n",
       "</table>\n",
       "</div>"
      ],
      "text/plain": [
       "    LSOA21CD borough  total_volume  building_count  building_mass_density\n",
       "0  E01002240  Harrow   342690.2761             649               2.040970\n",
       "1  E01000611   Brent   403976.5088             487               3.343012\n",
       "2  E01000569   Brent   549699.7797             880               1.475159\n",
       "3  E01000290  Barnet   626757.8320            1086               0.306555\n",
       "4  E01000139  Barnet   547905.8265             475               1.555343"
      ]
     },
     "execution_count": 18,
     "metadata": {},
     "output_type": "execute_result"
    }
   ],
   "source": [
    "df_building_volume_lsoa = con.execute(\"SELECT * FROM lsoa_bmd\").df()\n",
    "\n",
    "# Display the DataFrame\n",
    "df_building_volume_lsoa.head()"
   ]
  },
  {
   "cell_type": "markdown",
   "id": "e02c469a-c8f7-4701-8fd7-03ce1d8354c2",
   "metadata": {},
   "source": [
    "## Join data to LSOA geometries to create final table\n",
    "\n",
    "Finally join the new table back to the London LSOA with a valid geometry and export to CSV and shapefile."
   ]
  },
  {
   "cell_type": "code",
   "execution_count": 19,
   "id": "00aa8291-0f99-41c5-8447-d4c5ce11e913",
   "metadata": {},
   "outputs": [
    {
     "data": {
      "text/html": [
       "\n",
       "            <style>\n",
       "                .geemap-dark {\n",
       "                    --jp-widgets-color: white;\n",
       "                    --jp-widgets-label-color: white;\n",
       "                    --jp-ui-font-color1: white;\n",
       "                    --jp-layout-color2: #454545;\n",
       "                    background-color: #383838;\n",
       "                }\n",
       "\n",
       "                .geemap-dark .jupyter-button {\n",
       "                    --jp-layout-color3: #383838;\n",
       "                }\n",
       "\n",
       "                .geemap-colab {\n",
       "                    background-color: var(--colab-primary-surface-color, white);\n",
       "                }\n",
       "\n",
       "                .geemap-colab .jupyter-button {\n",
       "                    --jp-layout-color3: var(--colab-primary-surface-color, white);\n",
       "                }\n",
       "            </style>\n",
       "            "
      ],
      "text/plain": [
       "<IPython.core.display.HTML object>"
      ]
     },
     "metadata": {},
     "output_type": "display_data"
    },
    {
     "data": {
      "text/plain": [
       "<duckdb.duckdb.DuckDBPyConnection at 0x7f8f804ac0f0>"
      ]
     },
     "execution_count": 19,
     "metadata": {},
     "output_type": "execute_result"
    }
   ],
   "source": [
    "# Create a new joined table that includes geometries and attributes\n",
    "con.execute(\"\"\"\n",
    "CREATE OR REPLACE TABLE london_lsoa_bmd AS\n",
    "SELECT\n",
    "    l.LSOA21CD,\n",
    "    l.LSOA21NM,\n",
    "    l.borough,\n",
    "    b.total_volume,\n",
    "    b.building_count,\n",
    "    b.building_mass_density,\n",
    "    l.geom\n",
    "FROM london_lsoa l\n",
    "JOIN lsoa_bmd b\n",
    "ON l.LSOA21CD = b.LSOA21CD;\n",
    "\"\"\")"
   ]
  },
  {
   "cell_type": "markdown",
   "id": "b6f281c3-7d9c-4f78-9166-6d02cdbe76fe",
   "metadata": {},
   "source": [
    "Check the final dataset."
   ]
  },
  {
   "cell_type": "code",
   "execution_count": 20,
   "id": "5879b7f6-0400-4eed-a7fb-f92f7dfe0dfa",
   "metadata": {},
   "outputs": [
    {
     "data": {
      "text/html": [
       "\n",
       "            <style>\n",
       "                .geemap-dark {\n",
       "                    --jp-widgets-color: white;\n",
       "                    --jp-widgets-label-color: white;\n",
       "                    --jp-ui-font-color1: white;\n",
       "                    --jp-layout-color2: #454545;\n",
       "                    background-color: #383838;\n",
       "                }\n",
       "\n",
       "                .geemap-dark .jupyter-button {\n",
       "                    --jp-layout-color3: #383838;\n",
       "                }\n",
       "\n",
       "                .geemap-colab {\n",
       "                    background-color: var(--colab-primary-surface-color, white);\n",
       "                }\n",
       "\n",
       "                .geemap-colab .jupyter-button {\n",
       "                    --jp-layout-color3: var(--colab-primary-surface-color, white);\n",
       "                }\n",
       "            </style>\n",
       "            "
      ],
      "text/plain": [
       "<IPython.core.display.HTML object>"
      ]
     },
     "metadata": {},
     "output_type": "display_data"
    },
    {
     "data": {
      "text/html": [
       "<div>\n",
       "<style scoped>\n",
       "    .dataframe tbody tr th:only-of-type {\n",
       "        vertical-align: middle;\n",
       "    }\n",
       "\n",
       "    .dataframe tbody tr th {\n",
       "        vertical-align: top;\n",
       "    }\n",
       "\n",
       "    .dataframe thead th {\n",
       "        text-align: right;\n",
       "    }\n",
       "</style>\n",
       "<table border=\"1\" class=\"dataframe\">\n",
       "  <thead>\n",
       "    <tr style=\"text-align: right;\">\n",
       "      <th></th>\n",
       "      <th>LSOA21CD</th>\n",
       "      <th>LSOA21NM</th>\n",
       "      <th>Borough</th>\n",
       "      <th>total_volume</th>\n",
       "      <th>building_count</th>\n",
       "      <th>building_mass_density</th>\n",
       "      <th>geom</th>\n",
       "    </tr>\n",
       "  </thead>\n",
       "  <tbody>\n",
       "    <tr>\n",
       "      <th>0</th>\n",
       "      <td>E01000001</td>\n",
       "      <td>City of London 001A</td>\n",
       "      <td>City of London</td>\n",
       "      <td>2.634384e+06</td>\n",
       "      <td>130</td>\n",
       "      <td>19.694976</td>\n",
       "      <td>[2, 4, 0, 0, 0, 0, 0, 0, 197, 222, 1, 73, 221,...</td>\n",
       "    </tr>\n",
       "    <tr>\n",
       "      <th>1</th>\n",
       "      <td>E01000002</td>\n",
       "      <td>City of London 001B</td>\n",
       "      <td>City of London</td>\n",
       "      <td>5.444768e+06</td>\n",
       "      <td>159</td>\n",
       "      <td>24.126695</td>\n",
       "      <td>[2, 4, 0, 0, 0, 0, 0, 0, 81, 239, 1, 73, 56, 2...</td>\n",
       "    </tr>\n",
       "    <tr>\n",
       "      <th>2</th>\n",
       "      <td>E01000003</td>\n",
       "      <td>City of London 001C</td>\n",
       "      <td>City of London</td>\n",
       "      <td>4.579540e+05</td>\n",
       "      <td>60</td>\n",
       "      <td>7.993839</td>\n",
       "      <td>[2, 4, 0, 0, 0, 0, 0, 0, 117, 230, 1, 73, 241,...</td>\n",
       "    </tr>\n",
       "    <tr>\n",
       "      <th>3</th>\n",
       "      <td>E01000005</td>\n",
       "      <td>City of London 001E</td>\n",
       "      <td>City of London</td>\n",
       "      <td>3.032638e+06</td>\n",
       "      <td>236</td>\n",
       "      <td>15.918603</td>\n",
       "      <td>[2, 4, 0, 0, 0, 0, 0, 0, 115, 52, 2, 73, 120, ...</td>\n",
       "    </tr>\n",
       "    <tr>\n",
       "      <th>4</th>\n",
       "      <td>E01000006</td>\n",
       "      <td>Barking and Dagenham 016A</td>\n",
       "      <td>Barking and Dagenham</td>\n",
       "      <td>2.046179e+05</td>\n",
       "      <td>664</td>\n",
       "      <td>1.419032</td>\n",
       "      <td>[2, 4, 0, 0, 0, 0, 0, 0, 56, 251, 4, 73, 233, ...</td>\n",
       "    </tr>\n",
       "  </tbody>\n",
       "</table>\n",
       "</div>"
      ],
      "text/plain": [
       "    LSOA21CD                   LSOA21NM               Borough  total_volume  \\\n",
       "0  E01000001        City of London 001A        City of London  2.634384e+06   \n",
       "1  E01000002        City of London 001B        City of London  5.444768e+06   \n",
       "2  E01000003        City of London 001C        City of London  4.579540e+05   \n",
       "3  E01000005        City of London 001E        City of London  3.032638e+06   \n",
       "4  E01000006  Barking and Dagenham 016A  Barking and Dagenham  2.046179e+05   \n",
       "\n",
       "   building_count  building_mass_density  \\\n",
       "0             130              19.694976   \n",
       "1             159              24.126695   \n",
       "2              60               7.993839   \n",
       "3             236              15.918603   \n",
       "4             664               1.419032   \n",
       "\n",
       "                                                geom  \n",
       "0  [2, 4, 0, 0, 0, 0, 0, 0, 197, 222, 1, 73, 221,...  \n",
       "1  [2, 4, 0, 0, 0, 0, 0, 0, 81, 239, 1, 73, 56, 2...  \n",
       "2  [2, 4, 0, 0, 0, 0, 0, 0, 117, 230, 1, 73, 241,...  \n",
       "3  [2, 4, 0, 0, 0, 0, 0, 0, 115, 52, 2, 73, 120, ...  \n",
       "4  [2, 4, 0, 0, 0, 0, 0, 0, 56, 251, 4, 73, 233, ...  "
      ]
     },
     "execution_count": 20,
     "metadata": {},
     "output_type": "execute_result"
    }
   ],
   "source": [
    "df_london_lsoa_bmd = con.execute(\"SELECT * FROM london_lsoa_bmd\").df()\n",
    "\n",
    "# Display the DataFrame\n",
    "df_london_lsoa_bmd.head()"
   ]
  },
  {
   "cell_type": "markdown",
   "id": "9a6685a1-1504-477a-a6c3-41d1f69cb561",
   "metadata": {},
   "source": [
    "## Export to GeoJSON\n",
    "\n",
    "Export the final table to a geoJSON to be used within Earth Engine."
   ]
  },
  {
   "cell_type": "code",
   "execution_count": 21,
   "id": "480b2062-45fc-42f6-8403-3f9fc292e96c",
   "metadata": {},
   "outputs": [
    {
     "data": {
      "text/html": [
       "\n",
       "            <style>\n",
       "                .geemap-dark {\n",
       "                    --jp-widgets-color: white;\n",
       "                    --jp-widgets-label-color: white;\n",
       "                    --jp-ui-font-color1: white;\n",
       "                    --jp-layout-color2: #454545;\n",
       "                    background-color: #383838;\n",
       "                }\n",
       "\n",
       "                .geemap-dark .jupyter-button {\n",
       "                    --jp-layout-color3: #383838;\n",
       "                }\n",
       "\n",
       "                .geemap-colab {\n",
       "                    background-color: var(--colab-primary-surface-color, white);\n",
       "                }\n",
       "\n",
       "                .geemap-colab .jupyter-button {\n",
       "                    --jp-layout-color3: var(--colab-primary-surface-color, white);\n",
       "                }\n",
       "            </style>\n",
       "            "
      ],
      "text/plain": [
       "<IPython.core.display.HTML object>"
      ]
     },
     "metadata": {},
     "output_type": "display_data"
    }
   ],
   "source": [
    "# Load london_lsoa_bmd from DuckDB into a DataFrame with WKT geometry\n",
    "gdf_lsoa_bmd = con.execute(\"\"\"\n",
    "    SELECT *, ST_AsText(geom) AS wkt_geom  -- Convert geometry to WKT\n",
    "    FROM london_lsoa_bmd\n",
    "\"\"\").df()"
   ]
  },
  {
   "cell_type": "code",
   "execution_count": null,
   "id": "72b352e1-b0f8-44ca-926b-ee04ce1267d6",
   "metadata": {},
   "outputs": [],
   "source": [
    "# import wkt from shapely library\n",
    "from shapely import wkt\n",
    "\n",
    "# Convert WKT to geometry\n",
    "gdf_lsoa_bmd['geometry'] = gdf_lsoa_bmd['wkt_geom'].apply(wkt.loads)\n",
    "\n",
    "# Create GeoDataFrame\n",
    "gdf_lsoa_bmd = gpd.GeoDataFrame(gdf_lsoa_bmd, geometry='geometry')\n",
    "\n",
    "# Set CRS if needed (EPSG:27700 = British National Grid)\n",
    "gdf_lsoa_bmd.set_crs(\"EPSG:27700\", inplace=True)\n",
    "\n",
    "# Rename columns to avoid truncation \n",
    "# previously used as exported to shapefile but retained for cleanliness \n",
    "gdf_lsoa_bmd = gdf_lsoa_bmd.rename(\n",
    "    columns={\n",
    "        'LSOA21CD': 'LSOA_CD',\n",
    "        'Borough': 'BORO',\n",
    "        'building_mass_density': 'bldg_dens',\n",
    "        'building_count': 'bldg_cnt',\n",
    "        'total_volume': 'tot_vol'\n",
    "    }\n",
    ")\n",
    "\n",
    "# Keep only necessary columns\n",
    "columns_to_keep = ['LSOA_CD', 'BORO', 'bldg_dens', 'bldg_cnt', 'tot_vol', 'wkt_geom', 'geometry']\n",
    "gdf_lsoa_bmd = gpd.GeoDataFrame(gdf_lsoa_bmd[columns_to_keep], geometry='geometry')\n",
    "\n",
    "# Export to GeoJSON\n",
    "output_geojson_path = \"data/geojson/lsoa_bmd.geojson\"\n",
    "os.makedirs(os.path.dirname(output_geojson_path), exist_ok=True)\n",
    "gdf_lsoa_bmd.to_file(output_geojson_path, driver=\"GeoJSON\")\n",
    "\n",
    "print(f\"GeoJSON exported to: {output_geojson_path}\")"
   ]
  }
 ],
 "metadata": {
  "kernelspec": {
   "display_name": "Python (base)",
   "language": "python",
   "name": "base"
  },
  "language_info": {
   "codemirror_mode": {
    "name": "ipython",
    "version": 3
   },
   "file_extension": ".py",
   "mimetype": "text/x-python",
   "name": "python",
   "nbconvert_exporter": "python",
   "pygments_lexer": "ipython3",
   "version": "3.11.9"
  }
 },
 "nbformat": 4,
 "nbformat_minor": 5
}
